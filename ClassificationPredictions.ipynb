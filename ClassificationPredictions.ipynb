{
  "nbformat": 4,
  "nbformat_minor": 0,
  "metadata": {
    "colab": {
      "provenance": [],
      "authorship_tag": "ABX9TyMLEXsV04j2TrF0VgTbx7Dj",
      "include_colab_link": true
    },
    "kernelspec": {
      "name": "python3",
      "display_name": "Python 3"
    },
    "language_info": {
      "name": "python"
    }
  },
  "cells": [
    {
      "cell_type": "markdown",
      "metadata": {
        "id": "view-in-github",
        "colab_type": "text"
      },
      "source": [
        "<a href=\"https://colab.research.google.com/github/MarcosVel/Machine-Learning-and-Neurons/blob/master/ClassificationPredictions.ipynb\" target=\"_parent\"><img src=\"https://colab.research.google.com/assets/colab-badge.svg\" alt=\"Open In Colab\"/></a>"
      ]
    },
    {
      "cell_type": "code",
      "execution_count": 1,
      "metadata": {
        "id": "L3SbkfhCFSbp"
      },
      "outputs": [],
      "source": [
        "import tensorflow as tf"
      ]
    },
    {
      "cell_type": "code",
      "source": [
        "print(tf.__version__)"
      ],
      "metadata": {
        "colab": {
          "base_uri": "https://localhost:8080/"
        },
        "id": "fuyXBTC1FX_H",
        "outputId": "0160cadb-e86b-4595-9657-d7869a0c7486"
      },
      "execution_count": 2,
      "outputs": [
        {
          "output_type": "stream",
          "name": "stdout",
          "text": [
            "2.11.0\n"
          ]
        }
      ]
    },
    {
      "cell_type": "markdown",
      "source": [
        "# Load Data"
      ],
      "metadata": {
        "id": "82Wh_HvfL_s2"
      }
    },
    {
      "cell_type": "code",
      "source": [
        "from sklearn.datasets import load_breast_cancer"
      ],
      "metadata": {
        "id": "Kcd_E0zSJi5J"
      },
      "execution_count": 3,
      "outputs": []
    },
    {
      "cell_type": "code",
      "source": [
        "data = load_breast_cancer()\n",
        "data"
      ],
      "metadata": {
        "colab": {
          "base_uri": "https://localhost:8080/"
        },
        "id": "9f1jVLriJon5",
        "outputId": "6b264a84-6cd5-4ad9-f6a6-ddf08c861d7e"
      },
      "execution_count": 4,
      "outputs": [
        {
          "output_type": "execute_result",
          "data": {
            "text/plain": [
              "{'data': array([[1.799e+01, 1.038e+01, 1.228e+02, ..., 2.654e-01, 4.601e-01,\n",
              "         1.189e-01],\n",
              "        [2.057e+01, 1.777e+01, 1.329e+02, ..., 1.860e-01, 2.750e-01,\n",
              "         8.902e-02],\n",
              "        [1.969e+01, 2.125e+01, 1.300e+02, ..., 2.430e-01, 3.613e-01,\n",
              "         8.758e-02],\n",
              "        ...,\n",
              "        [1.660e+01, 2.808e+01, 1.083e+02, ..., 1.418e-01, 2.218e-01,\n",
              "         7.820e-02],\n",
              "        [2.060e+01, 2.933e+01, 1.401e+02, ..., 2.650e-01, 4.087e-01,\n",
              "         1.240e-01],\n",
              "        [7.760e+00, 2.454e+01, 4.792e+01, ..., 0.000e+00, 2.871e-01,\n",
              "         7.039e-02]]),\n",
              " 'target': array([0, 0, 0, 0, 0, 0, 0, 0, 0, 0, 0, 0, 0, 0, 0, 0, 0, 0, 0, 1, 1, 1,\n",
              "        0, 0, 0, 0, 0, 0, 0, 0, 0, 0, 0, 0, 0, 0, 0, 1, 0, 0, 0, 0, 0, 0,\n",
              "        0, 0, 1, 0, 1, 1, 1, 1, 1, 0, 0, 1, 0, 0, 1, 1, 1, 1, 0, 1, 0, 0,\n",
              "        1, 1, 1, 1, 0, 1, 0, 0, 1, 0, 1, 0, 0, 1, 1, 1, 0, 0, 1, 0, 0, 0,\n",
              "        1, 1, 1, 0, 1, 1, 0, 0, 1, 1, 1, 0, 0, 1, 1, 1, 1, 0, 1, 1, 0, 1,\n",
              "        1, 1, 1, 1, 1, 1, 1, 0, 0, 0, 1, 0, 0, 1, 1, 1, 0, 0, 1, 0, 1, 0,\n",
              "        0, 1, 0, 0, 1, 1, 0, 1, 1, 0, 1, 1, 1, 1, 0, 1, 1, 1, 1, 1, 1, 1,\n",
              "        1, 1, 0, 1, 1, 1, 1, 0, 0, 1, 0, 1, 1, 0, 0, 1, 1, 0, 0, 1, 1, 1,\n",
              "        1, 0, 1, 1, 0, 0, 0, 1, 0, 1, 0, 1, 1, 1, 0, 1, 1, 0, 0, 1, 0, 0,\n",
              "        0, 0, 1, 0, 0, 0, 1, 0, 1, 0, 1, 1, 0, 1, 0, 0, 0, 0, 1, 1, 0, 0,\n",
              "        1, 1, 1, 0, 1, 1, 1, 1, 1, 0, 0, 1, 1, 0, 1, 1, 0, 0, 1, 0, 1, 1,\n",
              "        1, 1, 0, 1, 1, 1, 1, 1, 0, 1, 0, 0, 0, 0, 0, 0, 0, 0, 0, 0, 0, 0,\n",
              "        0, 0, 1, 1, 1, 1, 1, 1, 0, 1, 0, 1, 1, 0, 1, 1, 0, 1, 0, 0, 1, 1,\n",
              "        1, 1, 1, 1, 1, 1, 1, 1, 1, 1, 1, 0, 1, 1, 0, 1, 0, 1, 1, 1, 1, 1,\n",
              "        1, 1, 1, 1, 1, 1, 1, 1, 1, 0, 1, 1, 1, 0, 1, 0, 1, 1, 1, 1, 0, 0,\n",
              "        0, 1, 1, 1, 1, 0, 1, 0, 1, 0, 1, 1, 1, 0, 1, 1, 1, 1, 1, 1, 1, 0,\n",
              "        0, 0, 1, 1, 1, 1, 1, 1, 1, 1, 1, 1, 1, 0, 0, 1, 0, 0, 0, 1, 0, 0,\n",
              "        1, 1, 1, 1, 1, 0, 1, 1, 1, 1, 1, 0, 1, 1, 1, 0, 1, 1, 0, 0, 1, 1,\n",
              "        1, 1, 1, 1, 0, 1, 1, 1, 1, 1, 1, 1, 0, 1, 1, 1, 1, 1, 0, 1, 1, 0,\n",
              "        1, 1, 1, 1, 1, 1, 1, 1, 1, 1, 1, 1, 0, 1, 0, 0, 1, 0, 1, 1, 1, 1,\n",
              "        1, 0, 1, 1, 0, 1, 0, 1, 1, 0, 1, 0, 1, 1, 1, 1, 1, 1, 1, 1, 0, 0,\n",
              "        1, 1, 1, 1, 1, 1, 0, 1, 1, 1, 1, 1, 1, 1, 1, 1, 1, 0, 1, 1, 1, 1,\n",
              "        1, 1, 1, 0, 1, 0, 1, 1, 0, 1, 1, 1, 1, 1, 0, 0, 1, 0, 1, 0, 1, 1,\n",
              "        1, 1, 1, 0, 1, 1, 0, 1, 0, 1, 0, 0, 1, 1, 1, 0, 1, 1, 1, 1, 1, 1,\n",
              "        1, 1, 1, 1, 1, 0, 1, 0, 0, 1, 1, 1, 1, 1, 1, 1, 1, 1, 1, 1, 1, 1,\n",
              "        1, 1, 1, 1, 1, 1, 1, 1, 1, 1, 1, 1, 0, 0, 0, 0, 0, 0, 1]),\n",
              " 'frame': None,\n",
              " 'target_names': array(['malignant', 'benign'], dtype='<U9'),\n",
              " 'DESCR': '.. _breast_cancer_dataset:\\n\\nBreast cancer wisconsin (diagnostic) dataset\\n--------------------------------------------\\n\\n**Data Set Characteristics:**\\n\\n    :Number of Instances: 569\\n\\n    :Number of Attributes: 30 numeric, predictive attributes and the class\\n\\n    :Attribute Information:\\n        - radius (mean of distances from center to points on the perimeter)\\n        - texture (standard deviation of gray-scale values)\\n        - perimeter\\n        - area\\n        - smoothness (local variation in radius lengths)\\n        - compactness (perimeter^2 / area - 1.0)\\n        - concavity (severity of concave portions of the contour)\\n        - concave points (number of concave portions of the contour)\\n        - symmetry\\n        - fractal dimension (\"coastline approximation\" - 1)\\n\\n        The mean, standard error, and \"worst\" or largest (mean of the three\\n        worst/largest values) of these features were computed for each image,\\n        resulting in 30 features.  For instance, field 0 is Mean Radius, field\\n        10 is Radius SE, field 20 is Worst Radius.\\n\\n        - class:\\n                - WDBC-Malignant\\n                - WDBC-Benign\\n\\n    :Summary Statistics:\\n\\n    ===================================== ====== ======\\n                                           Min    Max\\n    ===================================== ====== ======\\n    radius (mean):                        6.981  28.11\\n    texture (mean):                       9.71   39.28\\n    perimeter (mean):                     43.79  188.5\\n    area (mean):                          143.5  2501.0\\n    smoothness (mean):                    0.053  0.163\\n    compactness (mean):                   0.019  0.345\\n    concavity (mean):                     0.0    0.427\\n    concave points (mean):                0.0    0.201\\n    symmetry (mean):                      0.106  0.304\\n    fractal dimension (mean):             0.05   0.097\\n    radius (standard error):              0.112  2.873\\n    texture (standard error):             0.36   4.885\\n    perimeter (standard error):           0.757  21.98\\n    area (standard error):                6.802  542.2\\n    smoothness (standard error):          0.002  0.031\\n    compactness (standard error):         0.002  0.135\\n    concavity (standard error):           0.0    0.396\\n    concave points (standard error):      0.0    0.053\\n    symmetry (standard error):            0.008  0.079\\n    fractal dimension (standard error):   0.001  0.03\\n    radius (worst):                       7.93   36.04\\n    texture (worst):                      12.02  49.54\\n    perimeter (worst):                    50.41  251.2\\n    area (worst):                         185.2  4254.0\\n    smoothness (worst):                   0.071  0.223\\n    compactness (worst):                  0.027  1.058\\n    concavity (worst):                    0.0    1.252\\n    concave points (worst):               0.0    0.291\\n    symmetry (worst):                     0.156  0.664\\n    fractal dimension (worst):            0.055  0.208\\n    ===================================== ====== ======\\n\\n    :Missing Attribute Values: None\\n\\n    :Class Distribution: 212 - Malignant, 357 - Benign\\n\\n    :Creator:  Dr. William H. Wolberg, W. Nick Street, Olvi L. Mangasarian\\n\\n    :Donor: Nick Street\\n\\n    :Date: November, 1995\\n\\nThis is a copy of UCI ML Breast Cancer Wisconsin (Diagnostic) datasets.\\nhttps://goo.gl/U2Uwz2\\n\\nFeatures are computed from a digitized image of a fine needle\\naspirate (FNA) of a breast mass.  They describe\\ncharacteristics of the cell nuclei present in the image.\\n\\nSeparating plane described above was obtained using\\nMultisurface Method-Tree (MSM-T) [K. P. Bennett, \"Decision Tree\\nConstruction Via Linear Programming.\" Proceedings of the 4th\\nMidwest Artificial Intelligence and Cognitive Science Society,\\npp. 97-101, 1992], a classification method which uses linear\\nprogramming to construct a decision tree.  Relevant features\\nwere selected using an exhaustive search in the space of 1-4\\nfeatures and 1-3 separating planes.\\n\\nThe actual linear program used to obtain the separating plane\\nin the 3-dimensional space is that described in:\\n[K. P. Bennett and O. L. Mangasarian: \"Robust Linear\\nProgramming Discrimination of Two Linearly Inseparable Sets\",\\nOptimization Methods and Software 1, 1992, 23-34].\\n\\nThis database is also available through the UW CS ftp server:\\n\\nftp ftp.cs.wisc.edu\\ncd math-prog/cpo-dataset/machine-learn/WDBC/\\n\\n.. topic:: References\\n\\n   - W.N. Street, W.H. Wolberg and O.L. Mangasarian. Nuclear feature extraction \\n     for breast tumor diagnosis. IS&T/SPIE 1993 International Symposium on \\n     Electronic Imaging: Science and Technology, volume 1905, pages 861-870,\\n     San Jose, CA, 1993.\\n   - O.L. Mangasarian, W.N. Street and W.H. Wolberg. Breast cancer diagnosis and \\n     prognosis via linear programming. Operations Research, 43(4), pages 570-577, \\n     July-August 1995.\\n   - W.H. Wolberg, W.N. Street, and O.L. Mangasarian. Machine learning techniques\\n     to diagnose breast cancer from fine-needle aspirates. Cancer Letters 77 (1994) \\n     163-171.',\n",
              " 'feature_names': array(['mean radius', 'mean texture', 'mean perimeter', 'mean area',\n",
              "        'mean smoothness', 'mean compactness', 'mean concavity',\n",
              "        'mean concave points', 'mean symmetry', 'mean fractal dimension',\n",
              "        'radius error', 'texture error', 'perimeter error', 'area error',\n",
              "        'smoothness error', 'compactness error', 'concavity error',\n",
              "        'concave points error', 'symmetry error',\n",
              "        'fractal dimension error', 'worst radius', 'worst texture',\n",
              "        'worst perimeter', 'worst area', 'worst smoothness',\n",
              "        'worst compactness', 'worst concavity', 'worst concave points',\n",
              "        'worst symmetry', 'worst fractal dimension'], dtype='<U23'),\n",
              " 'filename': 'breast_cancer.csv',\n",
              " 'data_module': 'sklearn.datasets.data'}"
            ]
          },
          "metadata": {},
          "execution_count": 4
        }
      ]
    },
    {
      "cell_type": "code",
      "source": [
        "data.keys()"
      ],
      "metadata": {
        "colab": {
          "base_uri": "https://localhost:8080/"
        },
        "id": "MHskiB6lJqfI",
        "outputId": "8832c873-06a9-44d2-c605-86081aad661c"
      },
      "execution_count": 5,
      "outputs": [
        {
          "output_type": "execute_result",
          "data": {
            "text/plain": [
              "dict_keys(['data', 'target', 'frame', 'target_names', 'DESCR', 'feature_names', 'filename', 'data_module'])"
            ]
          },
          "metadata": {},
          "execution_count": 5
        }
      ]
    },
    {
      "cell_type": "markdown",
      "source": [
        "## shape\n",
        "\n",
        "`array([[1, 2, 3, 4], [5, 6, 7, 8]])`\n",
        "\n",
        "returns shape `(2, 4)`"
      ],
      "metadata": {
        "id": "WbDEhqyVKfh1"
      }
    },
    {
      "cell_type": "code",
      "source": [
        "data.data.shape"
      ],
      "metadata": {
        "colab": {
          "base_uri": "https://localhost:8080/"
        },
        "id": "9jtd0L5dJ3jM",
        "outputId": "60ecc6c8-010e-44e6-d875-5416e99cdb5c"
      },
      "execution_count": 6,
      "outputs": [
        {
          "output_type": "execute_result",
          "data": {
            "text/plain": [
              "(569, 30)"
            ]
          },
          "metadata": {},
          "execution_count": 6
        }
      ]
    },
    {
      "cell_type": "code",
      "source": [
        "data.target"
      ],
      "metadata": {
        "colab": {
          "base_uri": "https://localhost:8080/"
        },
        "id": "UJ98PAelK-1L",
        "outputId": "93a4c0ff-625e-49a5-e5bd-25831b579351"
      },
      "execution_count": 7,
      "outputs": [
        {
          "output_type": "execute_result",
          "data": {
            "text/plain": [
              "array([0, 0, 0, 0, 0, 0, 0, 0, 0, 0, 0, 0, 0, 0, 0, 0, 0, 0, 0, 1, 1, 1,\n",
              "       0, 0, 0, 0, 0, 0, 0, 0, 0, 0, 0, 0, 0, 0, 0, 1, 0, 0, 0, 0, 0, 0,\n",
              "       0, 0, 1, 0, 1, 1, 1, 1, 1, 0, 0, 1, 0, 0, 1, 1, 1, 1, 0, 1, 0, 0,\n",
              "       1, 1, 1, 1, 0, 1, 0, 0, 1, 0, 1, 0, 0, 1, 1, 1, 0, 0, 1, 0, 0, 0,\n",
              "       1, 1, 1, 0, 1, 1, 0, 0, 1, 1, 1, 0, 0, 1, 1, 1, 1, 0, 1, 1, 0, 1,\n",
              "       1, 1, 1, 1, 1, 1, 1, 0, 0, 0, 1, 0, 0, 1, 1, 1, 0, 0, 1, 0, 1, 0,\n",
              "       0, 1, 0, 0, 1, 1, 0, 1, 1, 0, 1, 1, 1, 1, 0, 1, 1, 1, 1, 1, 1, 1,\n",
              "       1, 1, 0, 1, 1, 1, 1, 0, 0, 1, 0, 1, 1, 0, 0, 1, 1, 0, 0, 1, 1, 1,\n",
              "       1, 0, 1, 1, 0, 0, 0, 1, 0, 1, 0, 1, 1, 1, 0, 1, 1, 0, 0, 1, 0, 0,\n",
              "       0, 0, 1, 0, 0, 0, 1, 0, 1, 0, 1, 1, 0, 1, 0, 0, 0, 0, 1, 1, 0, 0,\n",
              "       1, 1, 1, 0, 1, 1, 1, 1, 1, 0, 0, 1, 1, 0, 1, 1, 0, 0, 1, 0, 1, 1,\n",
              "       1, 1, 0, 1, 1, 1, 1, 1, 0, 1, 0, 0, 0, 0, 0, 0, 0, 0, 0, 0, 0, 0,\n",
              "       0, 0, 1, 1, 1, 1, 1, 1, 0, 1, 0, 1, 1, 0, 1, 1, 0, 1, 0, 0, 1, 1,\n",
              "       1, 1, 1, 1, 1, 1, 1, 1, 1, 1, 1, 0, 1, 1, 0, 1, 0, 1, 1, 1, 1, 1,\n",
              "       1, 1, 1, 1, 1, 1, 1, 1, 1, 0, 1, 1, 1, 0, 1, 0, 1, 1, 1, 1, 0, 0,\n",
              "       0, 1, 1, 1, 1, 0, 1, 0, 1, 0, 1, 1, 1, 0, 1, 1, 1, 1, 1, 1, 1, 0,\n",
              "       0, 0, 1, 1, 1, 1, 1, 1, 1, 1, 1, 1, 1, 0, 0, 1, 0, 0, 0, 1, 0, 0,\n",
              "       1, 1, 1, 1, 1, 0, 1, 1, 1, 1, 1, 0, 1, 1, 1, 0, 1, 1, 0, 0, 1, 1,\n",
              "       1, 1, 1, 1, 0, 1, 1, 1, 1, 1, 1, 1, 0, 1, 1, 1, 1, 1, 0, 1, 1, 0,\n",
              "       1, 1, 1, 1, 1, 1, 1, 1, 1, 1, 1, 1, 0, 1, 0, 0, 1, 0, 1, 1, 1, 1,\n",
              "       1, 0, 1, 1, 0, 1, 0, 1, 1, 0, 1, 0, 1, 1, 1, 1, 1, 1, 1, 1, 0, 0,\n",
              "       1, 1, 1, 1, 1, 1, 0, 1, 1, 1, 1, 1, 1, 1, 1, 1, 1, 0, 1, 1, 1, 1,\n",
              "       1, 1, 1, 0, 1, 0, 1, 1, 0, 1, 1, 1, 1, 1, 0, 0, 1, 0, 1, 0, 1, 1,\n",
              "       1, 1, 1, 0, 1, 1, 0, 1, 0, 1, 0, 0, 1, 1, 1, 0, 1, 1, 1, 1, 1, 1,\n",
              "       1, 1, 1, 1, 1, 0, 1, 0, 0, 1, 1, 1, 1, 1, 1, 1, 1, 1, 1, 1, 1, 1,\n",
              "       1, 1, 1, 1, 1, 1, 1, 1, 1, 1, 1, 1, 0, 0, 0, 0, 0, 0, 1])"
            ]
          },
          "metadata": {},
          "execution_count": 7
        }
      ]
    },
    {
      "cell_type": "code",
      "source": [
        "data.target_names\n",
        "# corresponding order:\n",
        "# 0 = malignant\n",
        "# 1 = benign"
      ],
      "metadata": {
        "colab": {
          "base_uri": "https://localhost:8080/"
        },
        "id": "iOH3SxbULIq_",
        "outputId": "4b447d18-28a0-4d6c-e991-951147ee27f6"
      },
      "execution_count": 8,
      "outputs": [
        {
          "output_type": "execute_result",
          "data": {
            "text/plain": [
              "array(['malignant', 'benign'], dtype='<U9')"
            ]
          },
          "metadata": {},
          "execution_count": 8
        }
      ]
    },
    {
      "cell_type": "code",
      "source": [
        "data.target.shape"
      ],
      "metadata": {
        "colab": {
          "base_uri": "https://localhost:8080/"
        },
        "id": "ZhKdfEl1LWYf",
        "outputId": "e6f27ff9-7765-4938-d3d9-486316678370"
      },
      "execution_count": 9,
      "outputs": [
        {
          "output_type": "execute_result",
          "data": {
            "text/plain": [
              "(569,)"
            ]
          },
          "metadata": {},
          "execution_count": 9
        }
      ]
    },
    {
      "cell_type": "code",
      "source": [
        "data.feature_names"
      ],
      "metadata": {
        "colab": {
          "base_uri": "https://localhost:8080/"
        },
        "id": "DowgTeSOLquX",
        "outputId": "60410ddd-acb9-4ab1-95ed-1483ba32bc51"
      },
      "execution_count": 10,
      "outputs": [
        {
          "output_type": "execute_result",
          "data": {
            "text/plain": [
              "array(['mean radius', 'mean texture', 'mean perimeter', 'mean area',\n",
              "       'mean smoothness', 'mean compactness', 'mean concavity',\n",
              "       'mean concave points', 'mean symmetry', 'mean fractal dimension',\n",
              "       'radius error', 'texture error', 'perimeter error', 'area error',\n",
              "       'smoothness error', 'compactness error', 'concavity error',\n",
              "       'concave points error', 'symmetry error',\n",
              "       'fractal dimension error', 'worst radius', 'worst texture',\n",
              "       'worst perimeter', 'worst area', 'worst smoothness',\n",
              "       'worst compactness', 'worst concavity', 'worst concave points',\n",
              "       'worst symmetry', 'worst fractal dimension'], dtype='<U23')"
            ]
          },
          "metadata": {},
          "execution_count": 10
        }
      ]
    },
    {
      "cell_type": "markdown",
      "source": [
        "# Train test"
      ],
      "metadata": {
        "id": "DDXt2Te1L6la"
      }
    },
    {
      "cell_type": "code",
      "source": [
        "from sklearn.model_selection import train_test_split"
      ],
      "metadata": {
        "id": "r9Bc1RJlL0QP"
      },
      "execution_count": 11,
      "outputs": []
    },
    {
      "cell_type": "code",
      "source": [
        "X_train, X_test, y_train, y_test = train_test_split(\n",
        "    data.data, data.target, test_size=0.33\n",
        ")"
      ],
      "metadata": {
        "id": "1TkKvWnlMGK3"
      },
      "execution_count": 12,
      "outputs": []
    },
    {
      "cell_type": "code",
      "source": [
        "N, D = X_train.shape\n",
        "X_train.shape"
      ],
      "metadata": {
        "colab": {
          "base_uri": "https://localhost:8080/"
        },
        "id": "ZxLuyWl6aYzy",
        "outputId": "98ea2307-40f7-4151-a78d-f2a62e05f69c"
      },
      "execution_count": 13,
      "outputs": [
        {
          "output_type": "execute_result",
          "data": {
            "text/plain": [
              "(381, 30)"
            ]
          },
          "metadata": {},
          "execution_count": 13
        }
      ]
    },
    {
      "cell_type": "code",
      "source": [
        "from sklearn.preprocessing import StandardScaler\n",
        "\n",
        "scaler = StandardScaler()\n",
        "X_train = scaler.fit_transform(X_train)\n",
        "X_test = scaler.transform(X_test)"
      ],
      "metadata": {
        "id": "dS7j5uuxX0f-"
      },
      "execution_count": 14,
      "outputs": []
    },
    {
      "cell_type": "code",
      "source": [
        "model = tf.keras.models.Sequential([\n",
        "    tf.keras.layers.Input(shape=(D,)),\n",
        "    tf.keras.layers.Dense(1, activation='sigmoid')\n",
        "])"
      ],
      "metadata": {
        "id": "CtBxIKJ1YTHT"
      },
      "execution_count": 15,
      "outputs": []
    },
    {
      "cell_type": "code",
      "source": [
        "# loss='binary_crossentropy' goes with activation='sigmoid' and binary classification\n",
        "\n",
        "model.compile(optimizer='adam', loss='binary_crossentropy', metrics=['accuracy'])"
      ],
      "metadata": {
        "id": "XnpTIspka5Cd"
      },
      "execution_count": 16,
      "outputs": []
    },
    {
      "cell_type": "code",
      "source": [
        "r = model.fit(X_train, y_train, validation_data=(X_test, y_test), epochs=100)"
      ],
      "metadata": {
        "colab": {
          "base_uri": "https://localhost:8080/"
        },
        "id": "k4jn8xfnbUUP",
        "outputId": "e03365d4-d38f-4340-bf81-4d1a507372a7"
      },
      "execution_count": 17,
      "outputs": [
        {
          "output_type": "stream",
          "name": "stdout",
          "text": [
            "Epoch 1/100\n",
            "12/12 [==============================] - 2s 70ms/step - loss: 0.6204 - accuracy: 0.6929 - val_loss: 0.6205 - val_accuracy: 0.6809\n",
            "Epoch 2/100\n",
            "12/12 [==============================] - 0s 19ms/step - loss: 0.5710 - accuracy: 0.7165 - val_loss: 0.5683 - val_accuracy: 0.7181\n",
            "Epoch 3/100\n",
            "12/12 [==============================] - 0s 19ms/step - loss: 0.5274 - accuracy: 0.7454 - val_loss: 0.5228 - val_accuracy: 0.7660\n",
            "Epoch 4/100\n",
            "12/12 [==============================] - 0s 9ms/step - loss: 0.4901 - accuracy: 0.7690 - val_loss: 0.4818 - val_accuracy: 0.7979\n",
            "Epoch 5/100\n",
            "12/12 [==============================] - 0s 9ms/step - loss: 0.4562 - accuracy: 0.7900 - val_loss: 0.4466 - val_accuracy: 0.8298\n",
            "Epoch 6/100\n",
            "12/12 [==============================] - 0s 9ms/step - loss: 0.4269 - accuracy: 0.8241 - val_loss: 0.4155 - val_accuracy: 0.8564\n",
            "Epoch 7/100\n",
            "12/12 [==============================] - 0s 15ms/step - loss: 0.4018 - accuracy: 0.8373 - val_loss: 0.3872 - val_accuracy: 0.8670\n",
            "Epoch 8/100\n",
            "12/12 [==============================] - 0s 10ms/step - loss: 0.3775 - accuracy: 0.8504 - val_loss: 0.3634 - val_accuracy: 0.8830\n",
            "Epoch 9/100\n",
            "12/12 [==============================] - 0s 9ms/step - loss: 0.3569 - accuracy: 0.8583 - val_loss: 0.3419 - val_accuracy: 0.8830\n",
            "Epoch 10/100\n",
            "12/12 [==============================] - 0s 11ms/step - loss: 0.3386 - accuracy: 0.8740 - val_loss: 0.3220 - val_accuracy: 0.8936\n",
            "Epoch 11/100\n",
            "12/12 [==============================] - 0s 8ms/step - loss: 0.3220 - accuracy: 0.8793 - val_loss: 0.3037 - val_accuracy: 0.9096\n",
            "Epoch 12/100\n",
            "12/12 [==============================] - 0s 16ms/step - loss: 0.3061 - accuracy: 0.8845 - val_loss: 0.2880 - val_accuracy: 0.9149\n",
            "Epoch 13/100\n",
            "12/12 [==============================] - 0s 10ms/step - loss: 0.2926 - accuracy: 0.8924 - val_loss: 0.2729 - val_accuracy: 0.9309\n",
            "Epoch 14/100\n",
            "12/12 [==============================] - 0s 12ms/step - loss: 0.2798 - accuracy: 0.8976 - val_loss: 0.2597 - val_accuracy: 0.9255\n",
            "Epoch 15/100\n",
            "12/12 [==============================] - 0s 8ms/step - loss: 0.2680 - accuracy: 0.9029 - val_loss: 0.2480 - val_accuracy: 0.9362\n",
            "Epoch 16/100\n",
            "12/12 [==============================] - 0s 13ms/step - loss: 0.2581 - accuracy: 0.9081 - val_loss: 0.2362 - val_accuracy: 0.9362\n",
            "Epoch 17/100\n",
            "12/12 [==============================] - 0s 8ms/step - loss: 0.2482 - accuracy: 0.9108 - val_loss: 0.2259 - val_accuracy: 0.9415\n",
            "Epoch 18/100\n",
            "12/12 [==============================] - 0s 9ms/step - loss: 0.2392 - accuracy: 0.9160 - val_loss: 0.2168 - val_accuracy: 0.9468\n",
            "Epoch 19/100\n",
            "12/12 [==============================] - 0s 21ms/step - loss: 0.2309 - accuracy: 0.9186 - val_loss: 0.2088 - val_accuracy: 0.9468\n",
            "Epoch 20/100\n",
            "12/12 [==============================] - 0s 12ms/step - loss: 0.2236 - accuracy: 0.9265 - val_loss: 0.2008 - val_accuracy: 0.9521\n",
            "Epoch 21/100\n",
            "12/12 [==============================] - 0s 11ms/step - loss: 0.2165 - accuracy: 0.9291 - val_loss: 0.1937 - val_accuracy: 0.9521\n",
            "Epoch 22/100\n",
            "12/12 [==============================] - 0s 7ms/step - loss: 0.2103 - accuracy: 0.9291 - val_loss: 0.1867 - val_accuracy: 0.9521\n",
            "Epoch 23/100\n",
            "12/12 [==============================] - 0s 7ms/step - loss: 0.2040 - accuracy: 0.9291 - val_loss: 0.1806 - val_accuracy: 0.9521\n",
            "Epoch 24/100\n",
            "12/12 [==============================] - 0s 12ms/step - loss: 0.1986 - accuracy: 0.9370 - val_loss: 0.1748 - val_accuracy: 0.9521\n",
            "Epoch 25/100\n",
            "12/12 [==============================] - 0s 8ms/step - loss: 0.1934 - accuracy: 0.9423 - val_loss: 0.1694 - val_accuracy: 0.9574\n",
            "Epoch 26/100\n",
            "12/12 [==============================] - 0s 7ms/step - loss: 0.1886 - accuracy: 0.9475 - val_loss: 0.1643 - val_accuracy: 0.9574\n",
            "Epoch 27/100\n",
            "12/12 [==============================] - 0s 13ms/step - loss: 0.1840 - accuracy: 0.9475 - val_loss: 0.1596 - val_accuracy: 0.9574\n",
            "Epoch 28/100\n",
            "12/12 [==============================] - 0s 7ms/step - loss: 0.1797 - accuracy: 0.9554 - val_loss: 0.1552 - val_accuracy: 0.9628\n",
            "Epoch 29/100\n",
            "12/12 [==============================] - 0s 8ms/step - loss: 0.1756 - accuracy: 0.9580 - val_loss: 0.1513 - val_accuracy: 0.9628\n",
            "Epoch 30/100\n",
            "12/12 [==============================] - 0s 9ms/step - loss: 0.1719 - accuracy: 0.9633 - val_loss: 0.1475 - val_accuracy: 0.9628\n",
            "Epoch 31/100\n",
            "12/12 [==============================] - 0s 7ms/step - loss: 0.1683 - accuracy: 0.9633 - val_loss: 0.1439 - val_accuracy: 0.9628\n",
            "Epoch 32/100\n",
            "12/12 [==============================] - 0s 12ms/step - loss: 0.1651 - accuracy: 0.9633 - val_loss: 0.1402 - val_accuracy: 0.9681\n",
            "Epoch 33/100\n",
            "12/12 [==============================] - 0s 10ms/step - loss: 0.1619 - accuracy: 0.9633 - val_loss: 0.1372 - val_accuracy: 0.9681\n",
            "Epoch 34/100\n",
            "12/12 [==============================] - 0s 7ms/step - loss: 0.1589 - accuracy: 0.9685 - val_loss: 0.1340 - val_accuracy: 0.9681\n",
            "Epoch 35/100\n",
            "12/12 [==============================] - 0s 10ms/step - loss: 0.1559 - accuracy: 0.9685 - val_loss: 0.1313 - val_accuracy: 0.9681\n",
            "Epoch 36/100\n",
            "12/12 [==============================] - 0s 15ms/step - loss: 0.1532 - accuracy: 0.9685 - val_loss: 0.1286 - val_accuracy: 0.9681\n",
            "Epoch 37/100\n",
            "12/12 [==============================] - 0s 15ms/step - loss: 0.1507 - accuracy: 0.9711 - val_loss: 0.1260 - val_accuracy: 0.9734\n",
            "Epoch 38/100\n",
            "12/12 [==============================] - 0s 11ms/step - loss: 0.1481 - accuracy: 0.9711 - val_loss: 0.1238 - val_accuracy: 0.9734\n",
            "Epoch 39/100\n",
            "12/12 [==============================] - 0s 14ms/step - loss: 0.1458 - accuracy: 0.9738 - val_loss: 0.1215 - val_accuracy: 0.9787\n",
            "Epoch 40/100\n",
            "12/12 [==============================] - 0s 9ms/step - loss: 0.1436 - accuracy: 0.9764 - val_loss: 0.1193 - val_accuracy: 0.9787\n",
            "Epoch 41/100\n",
            "12/12 [==============================] - 0s 11ms/step - loss: 0.1415 - accuracy: 0.9764 - val_loss: 0.1170 - val_accuracy: 0.9787\n",
            "Epoch 42/100\n",
            "12/12 [==============================] - 0s 19ms/step - loss: 0.1393 - accuracy: 0.9764 - val_loss: 0.1151 - val_accuracy: 0.9787\n",
            "Epoch 43/100\n",
            "12/12 [==============================] - 0s 9ms/step - loss: 0.1374 - accuracy: 0.9764 - val_loss: 0.1133 - val_accuracy: 0.9787\n",
            "Epoch 44/100\n",
            "12/12 [==============================] - 0s 10ms/step - loss: 0.1356 - accuracy: 0.9764 - val_loss: 0.1114 - val_accuracy: 0.9840\n",
            "Epoch 45/100\n",
            "12/12 [==============================] - 0s 8ms/step - loss: 0.1337 - accuracy: 0.9738 - val_loss: 0.1098 - val_accuracy: 0.9840\n",
            "Epoch 46/100\n",
            "12/12 [==============================] - 0s 11ms/step - loss: 0.1319 - accuracy: 0.9738 - val_loss: 0.1083 - val_accuracy: 0.9840\n",
            "Epoch 47/100\n",
            "12/12 [==============================] - 0s 11ms/step - loss: 0.1302 - accuracy: 0.9738 - val_loss: 0.1069 - val_accuracy: 0.9840\n",
            "Epoch 48/100\n",
            "12/12 [==============================] - 0s 9ms/step - loss: 0.1286 - accuracy: 0.9738 - val_loss: 0.1054 - val_accuracy: 0.9840\n",
            "Epoch 49/100\n",
            "12/12 [==============================] - 0s 9ms/step - loss: 0.1271 - accuracy: 0.9738 - val_loss: 0.1040 - val_accuracy: 0.9840\n",
            "Epoch 50/100\n",
            "12/12 [==============================] - 0s 10ms/step - loss: 0.1256 - accuracy: 0.9738 - val_loss: 0.1026 - val_accuracy: 0.9840\n",
            "Epoch 51/100\n",
            "12/12 [==============================] - 0s 10ms/step - loss: 0.1241 - accuracy: 0.9738 - val_loss: 0.1014 - val_accuracy: 0.9840\n",
            "Epoch 52/100\n",
            "12/12 [==============================] - 0s 9ms/step - loss: 0.1227 - accuracy: 0.9738 - val_loss: 0.1002 - val_accuracy: 0.9840\n",
            "Epoch 53/100\n",
            "12/12 [==============================] - 0s 9ms/step - loss: 0.1214 - accuracy: 0.9738 - val_loss: 0.0990 - val_accuracy: 0.9840\n",
            "Epoch 54/100\n",
            "12/12 [==============================] - 0s 8ms/step - loss: 0.1200 - accuracy: 0.9738 - val_loss: 0.0979 - val_accuracy: 0.9840\n",
            "Epoch 55/100\n",
            "12/12 [==============================] - 0s 14ms/step - loss: 0.1188 - accuracy: 0.9738 - val_loss: 0.0970 - val_accuracy: 0.9840\n",
            "Epoch 56/100\n",
            "12/12 [==============================] - 0s 8ms/step - loss: 0.1175 - accuracy: 0.9738 - val_loss: 0.0960 - val_accuracy: 0.9840\n",
            "Epoch 57/100\n",
            "12/12 [==============================] - 0s 8ms/step - loss: 0.1164 - accuracy: 0.9738 - val_loss: 0.0951 - val_accuracy: 0.9840\n",
            "Epoch 58/100\n",
            "12/12 [==============================] - 0s 8ms/step - loss: 0.1152 - accuracy: 0.9738 - val_loss: 0.0941 - val_accuracy: 0.9840\n",
            "Epoch 59/100\n",
            "12/12 [==============================] - 0s 10ms/step - loss: 0.1140 - accuracy: 0.9738 - val_loss: 0.0933 - val_accuracy: 0.9840\n",
            "Epoch 60/100\n",
            "12/12 [==============================] - 0s 17ms/step - loss: 0.1130 - accuracy: 0.9738 - val_loss: 0.0924 - val_accuracy: 0.9840\n",
            "Epoch 61/100\n",
            "12/12 [==============================] - 0s 11ms/step - loss: 0.1119 - accuracy: 0.9738 - val_loss: 0.0916 - val_accuracy: 0.9840\n",
            "Epoch 62/100\n",
            "12/12 [==============================] - 0s 14ms/step - loss: 0.1108 - accuracy: 0.9738 - val_loss: 0.0909 - val_accuracy: 0.9840\n",
            "Epoch 63/100\n",
            "12/12 [==============================] - 0s 18ms/step - loss: 0.1098 - accuracy: 0.9738 - val_loss: 0.0902 - val_accuracy: 0.9840\n",
            "Epoch 64/100\n",
            "12/12 [==============================] - 0s 7ms/step - loss: 0.1089 - accuracy: 0.9738 - val_loss: 0.0895 - val_accuracy: 0.9840\n",
            "Epoch 65/100\n",
            "12/12 [==============================] - 0s 10ms/step - loss: 0.1080 - accuracy: 0.9738 - val_loss: 0.0888 - val_accuracy: 0.9894\n",
            "Epoch 66/100\n",
            "12/12 [==============================] - 0s 7ms/step - loss: 0.1070 - accuracy: 0.9738 - val_loss: 0.0881 - val_accuracy: 0.9894\n",
            "Epoch 67/100\n",
            "12/12 [==============================] - 0s 11ms/step - loss: 0.1062 - accuracy: 0.9738 - val_loss: 0.0875 - val_accuracy: 0.9894\n",
            "Epoch 68/100\n",
            "12/12 [==============================] - 0s 11ms/step - loss: 0.1053 - accuracy: 0.9738 - val_loss: 0.0869 - val_accuracy: 0.9894\n",
            "Epoch 69/100\n",
            "12/12 [==============================] - 0s 9ms/step - loss: 0.1044 - accuracy: 0.9764 - val_loss: 0.0863 - val_accuracy: 0.9894\n",
            "Epoch 70/100\n",
            "12/12 [==============================] - 0s 12ms/step - loss: 0.1036 - accuracy: 0.9764 - val_loss: 0.0858 - val_accuracy: 0.9894\n",
            "Epoch 71/100\n",
            "12/12 [==============================] - 0s 11ms/step - loss: 0.1028 - accuracy: 0.9764 - val_loss: 0.0852 - val_accuracy: 0.9894\n",
            "Epoch 72/100\n",
            "12/12 [==============================] - 0s 9ms/step - loss: 0.1020 - accuracy: 0.9764 - val_loss: 0.0847 - val_accuracy: 0.9894\n",
            "Epoch 73/100\n",
            "12/12 [==============================] - 0s 12ms/step - loss: 0.1012 - accuracy: 0.9764 - val_loss: 0.0841 - val_accuracy: 0.9894\n",
            "Epoch 74/100\n",
            "12/12 [==============================] - 0s 8ms/step - loss: 0.1005 - accuracy: 0.9764 - val_loss: 0.0836 - val_accuracy: 0.9894\n",
            "Epoch 75/100\n",
            "12/12 [==============================] - 0s 7ms/step - loss: 0.0997 - accuracy: 0.9764 - val_loss: 0.0832 - val_accuracy: 0.9894\n",
            "Epoch 76/100\n",
            "12/12 [==============================] - 0s 15ms/step - loss: 0.0990 - accuracy: 0.9764 - val_loss: 0.0827 - val_accuracy: 0.9894\n",
            "Epoch 77/100\n",
            "12/12 [==============================] - 0s 14ms/step - loss: 0.0983 - accuracy: 0.9764 - val_loss: 0.0823 - val_accuracy: 0.9894\n",
            "Epoch 78/100\n",
            "12/12 [==============================] - 0s 11ms/step - loss: 0.0977 - accuracy: 0.9764 - val_loss: 0.0818 - val_accuracy: 0.9894\n",
            "Epoch 79/100\n",
            "12/12 [==============================] - 0s 15ms/step - loss: 0.0970 - accuracy: 0.9764 - val_loss: 0.0814 - val_accuracy: 0.9894\n",
            "Epoch 80/100\n",
            "12/12 [==============================] - 0s 16ms/step - loss: 0.0963 - accuracy: 0.9764 - val_loss: 0.0810 - val_accuracy: 0.9894\n",
            "Epoch 81/100\n",
            "12/12 [==============================] - 0s 20ms/step - loss: 0.0957 - accuracy: 0.9764 - val_loss: 0.0806 - val_accuracy: 0.9894\n",
            "Epoch 82/100\n",
            "12/12 [==============================] - 0s 25ms/step - loss: 0.0950 - accuracy: 0.9764 - val_loss: 0.0802 - val_accuracy: 0.9894\n",
            "Epoch 83/100\n",
            "12/12 [==============================] - 0s 29ms/step - loss: 0.0944 - accuracy: 0.9764 - val_loss: 0.0798 - val_accuracy: 0.9894\n",
            "Epoch 84/100\n",
            "12/12 [==============================] - 0s 17ms/step - loss: 0.0938 - accuracy: 0.9764 - val_loss: 0.0795 - val_accuracy: 0.9894\n",
            "Epoch 85/100\n",
            "12/12 [==============================] - 0s 16ms/step - loss: 0.0933 - accuracy: 0.9764 - val_loss: 0.0792 - val_accuracy: 0.9894\n",
            "Epoch 86/100\n",
            "12/12 [==============================] - 0s 19ms/step - loss: 0.0926 - accuracy: 0.9764 - val_loss: 0.0788 - val_accuracy: 0.9894\n",
            "Epoch 87/100\n",
            "12/12 [==============================] - 0s 27ms/step - loss: 0.0921 - accuracy: 0.9790 - val_loss: 0.0785 - val_accuracy: 0.9894\n",
            "Epoch 88/100\n",
            "12/12 [==============================] - 0s 21ms/step - loss: 0.0915 - accuracy: 0.9790 - val_loss: 0.0782 - val_accuracy: 0.9894\n",
            "Epoch 89/100\n",
            "12/12 [==============================] - 0s 21ms/step - loss: 0.0910 - accuracy: 0.9790 - val_loss: 0.0779 - val_accuracy: 0.9894\n",
            "Epoch 90/100\n",
            "12/12 [==============================] - 0s 30ms/step - loss: 0.0905 - accuracy: 0.9790 - val_loss: 0.0776 - val_accuracy: 0.9894\n",
            "Epoch 91/100\n",
            "12/12 [==============================] - 0s 20ms/step - loss: 0.0899 - accuracy: 0.9790 - val_loss: 0.0773 - val_accuracy: 0.9947\n",
            "Epoch 92/100\n",
            "12/12 [==============================] - 0s 13ms/step - loss: 0.0895 - accuracy: 0.9790 - val_loss: 0.0770 - val_accuracy: 0.9947\n",
            "Epoch 93/100\n",
            "12/12 [==============================] - 0s 14ms/step - loss: 0.0889 - accuracy: 0.9790 - val_loss: 0.0768 - val_accuracy: 0.9947\n",
            "Epoch 94/100\n",
            "12/12 [==============================] - 0s 10ms/step - loss: 0.0884 - accuracy: 0.9790 - val_loss: 0.0765 - val_accuracy: 0.9947\n",
            "Epoch 95/100\n",
            "12/12 [==============================] - 0s 12ms/step - loss: 0.0879 - accuracy: 0.9790 - val_loss: 0.0763 - val_accuracy: 0.9947\n",
            "Epoch 96/100\n",
            "12/12 [==============================] - 0s 10ms/step - loss: 0.0875 - accuracy: 0.9790 - val_loss: 0.0760 - val_accuracy: 0.9947\n",
            "Epoch 97/100\n",
            "12/12 [==============================] - 0s 18ms/step - loss: 0.0870 - accuracy: 0.9790 - val_loss: 0.0757 - val_accuracy: 0.9947\n",
            "Epoch 98/100\n",
            "12/12 [==============================] - 0s 8ms/step - loss: 0.0865 - accuracy: 0.9790 - val_loss: 0.0755 - val_accuracy: 0.9947\n",
            "Epoch 99/100\n",
            "12/12 [==============================] - 0s 8ms/step - loss: 0.0861 - accuracy: 0.9790 - val_loss: 0.0753 - val_accuracy: 0.9947\n",
            "Epoch 100/100\n",
            "12/12 [==============================] - 0s 8ms/step - loss: 0.0857 - accuracy: 0.9790 - val_loss: 0.0751 - val_accuracy: 0.9947\n"
          ]
        }
      ]
    },
    {
      "cell_type": "code",
      "source": [
        "print(\"Train score:\", model.evaluate(X_train, y_train))\n",
        "print(\"Test score:\", model.evaluate(X_test, y_test))"
      ],
      "metadata": {
        "colab": {
          "base_uri": "https://localhost:8080/"
        },
        "id": "pRhaRPljbeal",
        "outputId": "7d859004-78a1-41cc-d596-3fea1231aff9"
      },
      "execution_count": 18,
      "outputs": [
        {
          "output_type": "stream",
          "name": "stdout",
          "text": [
            "12/12 [==============================] - 0s 5ms/step - loss: 0.0854 - accuracy: 0.9790\n",
            "Train score: [0.08539507538080215, 0.9790025949478149]\n",
            "6/6 [==============================] - 0s 4ms/step - loss: 0.0751 - accuracy: 0.9947\n",
            "Test score: [0.07509477436542511, 0.9946808218955994]\n"
          ]
        }
      ]
    },
    {
      "cell_type": "code",
      "source": [
        "import matplotlib.pyplot as plt\n",
        "\n",
        "plt.plot(r.history['loss'], label='loss')\n",
        "plt.plot(r.history['val_loss'], label='val_loss')\n",
        "plt.legend();"
      ],
      "metadata": {
        "colab": {
          "base_uri": "https://localhost:8080/",
          "height": 265
        },
        "id": "S_pokHBkcLDx",
        "outputId": "98ea97ee-c3d2-4e2c-fb72-108280b84e40"
      },
      "execution_count": 19,
      "outputs": [
        {
          "output_type": "display_data",
          "data": {
            "text/plain": [
              "<Figure size 432x288 with 1 Axes>"
            ],
            "image/png": "[encoded data removed]"
          },
          "metadata": {
            "needs_background": "light"
          }
        }
      ]
    },
    {
      "cell_type": "code",
      "source": [
        "plt.plot(r.history['accuracy'], label='acc')\n",
        "plt.plot(r.history['val_accuracy'], label='val_accuracy')\n",
        "plt.legend();"
      ],
      "metadata": {
        "colab": {
          "base_uri": "https://localhost:8080/",
          "height": 265
        },
        "id": "RHsX8qMAdLl6",
        "outputId": "48826833-d3a7-418f-bbb8-397822a49396"
      },
      "execution_count": 20,
      "outputs": [
        {
          "output_type": "display_data",
          "data": {
            "text/plain": [
              "<Figure size 432x288 with 1 Axes>"
            ],
            "image/png": "[encoded data removed]"
          },
          "metadata": {
            "needs_background": "light"
          }
        }
      ]
    },
    {
      "cell_type": "markdown",
      "source": [
        "# Making Predictions"
      ],
      "metadata": {
        "id": "4herYKCdZyLo"
      }
    },
    {
      "cell_type": "code",
      "source": [
        "P = model.predict(X_test)\n",
        "print(P)"
      ],
      "metadata": {
        "colab": {
          "base_uri": "https://localhost:8080/"
        },
        "id": "EcsR8MRIZxm7",
        "outputId": "cf5b0a15-e3a6-4e40-dac2-55173f66071a"
      },
      "execution_count": 24,
      "outputs": [
        {
          "output_type": "stream",
          "name": "stdout",
          "text": [
            "6/6 [==============================] - 0s 2ms/step\n",
            "[[9.83365715e-01]\n",
            " [7.47093260e-01]\n",
            " [9.88568366e-01]\n",
            " [4.60494757e-01]\n",
            " [9.99671817e-01]\n",
            " [9.81476665e-01]\n",
            " [9.99894083e-01]\n",
            " [9.88292277e-01]\n",
            " [9.51047719e-01]\n",
            " [9.97709751e-01]\n",
            " [2.54892886e-01]\n",
            " [9.87457097e-01]\n",
            " [9.92722690e-01]\n",
            " [9.05783415e-01]\n",
            " [7.71540552e-02]\n",
            " [3.47095123e-03]\n",
            " [9.97235596e-01]\n",
            " [9.97372806e-01]\n",
            " [8.79815221e-01]\n",
            " [8.54954356e-04]\n",
            " [9.99238253e-01]\n",
            " [9.99597609e-01]\n",
            " [9.77220058e-01]\n",
            " [9.90356147e-01]\n",
            " [9.86697912e-01]\n",
            " [9.98650014e-01]\n",
            " [1.13455823e-08]\n",
            " [2.25937739e-01]\n",
            " [9.79663312e-01]\n",
            " [9.92395639e-01]\n",
            " [9.99038041e-01]\n",
            " [9.99278724e-01]\n",
            " [9.09995914e-01]\n",
            " [6.28948629e-01]\n",
            " [6.89890325e-01]\n",
            " [2.04599361e-04]\n",
            " [3.19544645e-03]\n",
            " [8.27391669e-02]\n",
            " [9.89686430e-01]\n",
            " [8.00273180e-01]\n",
            " [1.44785736e-04]\n",
            " [9.90986586e-01]\n",
            " [2.89382751e-06]\n",
            " [9.98656392e-01]\n",
            " [4.67343925e-05]\n",
            " [4.99930903e-02]\n",
            " [9.94438171e-01]\n",
            " [9.41654384e-01]\n",
            " [8.36942434e-01]\n",
            " [9.97620702e-01]\n",
            " [9.76559162e-01]\n",
            " [9.94009495e-01]\n",
            " [9.89385128e-01]\n",
            " [9.74219739e-01]\n",
            " [9.99756694e-01]\n",
            " [9.92156923e-01]\n",
            " [9.99482036e-01]\n",
            " [6.37660027e-01]\n",
            " [7.28898227e-01]\n",
            " [9.96185720e-01]\n",
            " [9.86587405e-01]\n",
            " [1.51377376e-02]\n",
            " [9.99352515e-01]\n",
            " [8.10227156e-01]\n",
            " [9.90511656e-01]\n",
            " [9.65388417e-01]\n",
            " [9.95369077e-01]\n",
            " [9.68689263e-01]\n",
            " [9.89207685e-01]\n",
            " [9.96859670e-01]\n",
            " [6.21636510e-01]\n",
            " [8.65469098e-01]\n",
            " [9.95918870e-01]\n",
            " [4.82784301e-01]\n",
            " [3.04909213e-06]\n",
            " [5.92332445e-02]\n",
            " [7.95767233e-02]\n",
            " [4.77551202e-06]\n",
            " [9.61614192e-01]\n",
            " [8.45646858e-01]\n",
            " [9.79068279e-01]\n",
            " [9.68683243e-01]\n",
            " [1.24681845e-01]\n",
            " [4.70661014e-01]\n",
            " [4.80655899e-07]\n",
            " [9.84758973e-01]\n",
            " [9.77837920e-01]\n",
            " [9.77551341e-01]\n",
            " [7.44711339e-01]\n",
            " [3.32579861e-04]\n",
            " [4.67966497e-02]\n",
            " [9.97637510e-01]\n",
            " [9.15076017e-01]\n",
            " [9.96935964e-01]\n",
            " [9.92041409e-01]\n",
            " [9.92873847e-01]\n",
            " [7.70349102e-03]\n",
            " [9.89549756e-01]\n",
            " [9.65115666e-01]\n",
            " [6.74318848e-03]\n",
            " [4.55171056e-03]\n",
            " [9.89519835e-01]\n",
            " [9.97283816e-01]\n",
            " [9.84626472e-01]\n",
            " [9.55123961e-01]\n",
            " [2.31604936e-04]\n",
            " [5.14952699e-03]\n",
            " [9.98436332e-01]\n",
            " [9.34727967e-01]\n",
            " [9.86696899e-01]\n",
            " [2.84417310e-05]\n",
            " [9.96849298e-01]\n",
            " [9.99178112e-01]\n",
            " [4.56022657e-03]\n",
            " [3.67168046e-04]\n",
            " [9.96760905e-01]\n",
            " [9.22838375e-02]\n",
            " [1.41459223e-05]\n",
            " [9.87636149e-01]\n",
            " [2.84435838e-01]\n",
            " [9.92284596e-01]\n",
            " [4.67936788e-03]\n",
            " [4.27131135e-06]\n",
            " [9.89127696e-01]\n",
            " [9.91926134e-01]\n",
            " [1.38868869e-04]\n",
            " [4.48917097e-04]\n",
            " [9.83000457e-01]\n",
            " [9.22111690e-01]\n",
            " [9.98986781e-01]\n",
            " [1.41464418e-03]\n",
            " [9.97508824e-01]\n",
            " [2.77103190e-05]\n",
            " [9.94766057e-01]\n",
            " [1.98030716e-06]\n",
            " [9.97639298e-01]\n",
            " [9.99604464e-01]\n",
            " [5.77800050e-02]\n",
            " [2.92963046e-03]\n",
            " [3.30269849e-03]\n",
            " [4.39909426e-03]\n",
            " [9.98513401e-01]\n",
            " [9.58182812e-01]\n",
            " [9.98925447e-01]\n",
            " [9.99844611e-01]\n",
            " [1.96142173e-05]\n",
            " [2.27977434e-04]\n",
            " [9.96319354e-01]\n",
            " [9.10302222e-01]\n",
            " [9.99579012e-01]\n",
            " [3.78757759e-05]\n",
            " [8.39111221e-04]\n",
            " [9.74339664e-01]\n",
            " [9.72435355e-01]\n",
            " [2.71409266e-02]\n",
            " [9.99344885e-01]\n",
            " [2.37689167e-02]\n",
            " [9.47843790e-01]\n",
            " [9.96744454e-01]\n",
            " [6.17834091e-01]\n",
            " [9.98489738e-01]\n",
            " [9.96899128e-01]\n",
            " [9.29351509e-01]\n",
            " [3.02809123e-02]\n",
            " [9.83952582e-01]\n",
            " [9.97070670e-01]\n",
            " [1.18098564e-04]\n",
            " [2.77706975e-04]\n",
            " [1.32239731e-02]\n",
            " [1.33364247e-02]\n",
            " [9.74618137e-01]\n",
            " [2.21273466e-03]\n",
            " [3.75136942e-01]\n",
            " [7.38589279e-06]\n",
            " [9.83273506e-01]\n",
            " [1.13019031e-02]\n",
            " [9.90339577e-01]\n",
            " [4.49722756e-05]\n",
            " [9.95990694e-01]\n",
            " [9.38101232e-01]\n",
            " [9.65724051e-01]\n",
            " [1.87326421e-03]\n",
            " [9.89985406e-01]\n",
            " [2.08429527e-02]\n",
            " [9.98587489e-01]\n",
            " [9.96164620e-01]\n",
            " [9.89642143e-01]\n",
            " [9.53078091e-01]]\n"
          ]
        }
      ]
    },
    {
      "cell_type": "code",
      "source": [
        "import numpy as np"
      ],
      "metadata": {
        "id": "vpkQME_eaI9y"
      },
      "execution_count": 22,
      "outputs": []
    },
    {
      "cell_type": "code",
      "source": [
        "# Round to get actual predictions\n",
        "P = np.round(P).flatten()\n",
        "print(P)"
      ],
      "metadata": {
        "colab": {
          "base_uri": "https://localhost:8080/"
        },
        "id": "Zh8elSPEZ8Mo",
        "outputId": "10740cbf-3de8-4092-d641-aefcb3ab3b0e"
      },
      "execution_count": 28,
      "outputs": [
        {
          "output_type": "stream",
          "name": "stdout",
          "text": [
            "[1. 1. 1. 0. 1. 1. 1. 1. 1. 1. 0. 1. 1. 1. 0. 0. 1. 1. 1. 0. 1. 1. 1. 1.\n",
            " 1. 1. 0. 0. 1. 1. 1. 1. 1. 1. 1. 0. 0. 0. 1. 1. 0. 1. 0. 1. 0. 0. 1. 1.\n",
            " 1. 1. 1. 1. 1. 1. 1. 1. 1. 1. 1. 1. 1. 0. 1. 1. 1. 1. 1. 1. 1. 1. 1. 1.\n",
            " 1. 0. 0. 0. 0. 0. 1. 1. 1. 1. 0. 0. 0. 1. 1. 1. 1. 0. 0. 1. 1. 1. 1. 1.\n",
            " 0. 1. 1. 0. 0. 1. 1. 1. 1. 0. 0. 1. 1. 1. 0. 1. 1. 0. 0. 1. 0. 0. 1. 0.\n",
            " 1. 0. 0. 1. 1. 0. 0. 1. 1. 1. 0. 1. 0. 1. 0. 1. 1. 0. 0. 0. 0. 1. 1. 1.\n",
            " 1. 0. 0. 1. 1. 1. 0. 0. 1. 1. 0. 1. 0. 1. 1. 1. 1. 1. 1. 0. 1. 1. 0. 0.\n",
            " 0. 0. 1. 0. 0. 0. 1. 0. 1. 0. 1. 1. 1. 0. 1. 0. 1. 1. 1. 1.]\n"
          ]
        }
      ]
    },
    {
      "cell_type": "code",
      "source": [
        "print(\"Manually calculated accuracy:\", np.mean(P == y_test))\n",
        "print(\"Evaluate output:\", model.evaluate(X_test, y_test))"
      ],
      "metadata": {
        "colab": {
          "base_uri": "https://localhost:8080/"
        },
        "id": "uxCcfR5saLbr",
        "outputId": "c60b76c3-3f31-4027-f5e4-ec45c9c62fbc"
      },
      "execution_count": 29,
      "outputs": [
        {
          "output_type": "stream",
          "name": "stdout",
          "text": [
            "Manually calculated accuracy: 0.9946808510638298\n",
            "6/6 [==============================] - 0s 3ms/step - loss: 0.0751 - accuracy: 0.9947\n",
            "Evaluate output: [0.07509477436542511, 0.9946808218955994]\n"
          ]
        }
      ]
    }
  ]
}