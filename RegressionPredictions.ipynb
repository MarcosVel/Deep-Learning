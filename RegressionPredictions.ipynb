{
  "nbformat": 4,
  "nbformat_minor": 0,
  "metadata": {
    "colab": {
      "provenance": [],
      "authorship_tag": "ABX9TyP4QZvZnUzolS/DTtZTXlsM",
      "include_colab_link": true
    },
    "kernelspec": {
      "name": "python3",
      "display_name": "Python 3"
    },
    "language_info": {
      "name": "python"
    }
  },
  "cells": [
    {
      "cell_type": "markdown",
      "metadata": {
        "id": "view-in-github",
        "colab_type": "text"
      },
      "source": [
        "<a href=\"https://colab.research.google.com/github/MarcosVel/Machine-Learning-and-Neurons/blob/master/RegressionPredictions.ipynb\" target=\"_parent\"><img src=\"https://colab.research.google.com/assets/colab-badge.svg\" alt=\"Open In Colab\"/></a>"
      ]
    },
    {
      "cell_type": "code",
      "execution_count": 1,
      "metadata": {
        "id": "fvLVqic7CbP_"
      },
      "outputs": [],
      "source": [
        "import tensorflow as tf\n",
        "import pandas as pd\n",
        "import numpy as np\n",
        "import matplotlib.pyplot as plt"
      ]
    },
    {
      "cell_type": "code",
      "source": [
        "!wget https://raw.githubusercontent.com/lazyprogrammer/machine_learning_examples/master/tf2.0/moore.csv"
      ],
      "metadata": {
        "colab": {
          "base_uri": "https://localhost:8080/"
        },
        "id": "8z656iDtG66Z",
        "outputId": "237dd162-95be-4d75-dca8-a2a2816b3a2c"
      },
      "execution_count": 2,
      "outputs": [
        {
          "output_type": "stream",
          "name": "stdout",
          "text": [
            "--2023-03-12 20:15:11--  https://raw.githubusercontent.com/lazyprogrammer/machine_learning_examples/master/tf2.0/moore.csv\n",
            "Resolving raw.githubusercontent.com (raw.githubusercontent.com)... 185.199.108.133, 185.199.109.133, 185.199.110.133, ...\n",
            "Connecting to raw.githubusercontent.com (raw.githubusercontent.com)|185.199.108.133|:443... connected.\n",
            "HTTP request sent, awaiting response... 200 OK\n",
            "Length: 2302 (2.2K) [text/plain]\n",
            "Saving to: ‘moore.csv’\n",
            "\n",
            "moore.csv           100%[===================>]   2.25K  --.-KB/s    in 0s      \n",
            "\n",
            "2023-03-12 20:15:11 (25.5 MB/s) - ‘moore.csv’ saved [2302/2302]\n",
            "\n"
          ]
        }
      ]
    },
    {
      "cell_type": "code",
      "source": [
        "!head moore.csv"
      ],
      "metadata": {
        "colab": {
          "base_uri": "https://localhost:8080/"
        },
        "id": "PYooF-69HSTL",
        "outputId": "60d736aa-e96e-4a4b-de84-24f7b332fb0c"
      },
      "execution_count": 3,
      "outputs": [
        {
          "output_type": "stream",
          "name": "stdout",
          "text": [
            "1971,2300\n",
            "1972,3500\n",
            "1973,2500\n",
            "1973,2500\n",
            "1974,4100\n",
            "1974,4500\n",
            "1974,8000\n",
            "1975,3510\n",
            "1976,5000\n",
            "1976,8500\n"
          ]
        }
      ]
    },
    {
      "cell_type": "code",
      "source": [
        "data = pd.read_csv('moore.csv', header=None).to_numpy()\n",
        "data"
      ],
      "metadata": {
        "colab": {
          "base_uri": "https://localhost:8080/"
        },
        "id": "r1OTwAX0HEnD",
        "outputId": "debfbc74-a3e0-44b2-bfea-e1dfbd4a2f58"
      },
      "execution_count": 4,
      "outputs": [
        {
          "output_type": "execute_result",
          "data": {
            "text/plain": [
              "array([[       1971,        2300],\n",
              "       [       1972,        3500],\n",
              "       [       1973,        2500],\n",
              "       [       1973,        2500],\n",
              "       [       1974,        4100],\n",
              "       [       1974,        4500],\n",
              "       [       1974,        8000],\n",
              "       [       1975,        3510],\n",
              "       [       1976,        5000],\n",
              "       [       1976,        8500],\n",
              "       [       1976,        6500],\n",
              "       [       1978,        9000],\n",
              "       [       1978,       29000],\n",
              "       [       1979,       17500],\n",
              "       [       1979,       29000],\n",
              "       [       1979,       68000],\n",
              "       [       1981,       11500],\n",
              "       [       1982,       55000],\n",
              "       [       1982,      134000],\n",
              "       [       1983,       22000],\n",
              "       [       1984,       63000],\n",
              "       [       1984,      190000],\n",
              "       [       1985,      275000],\n",
              "       [       1985,       25000],\n",
              "       [       1985,       16000],\n",
              "       [       1986,      110000],\n",
              "       [       1986,      375000],\n",
              "       [       1986,       30000],\n",
              "       [       1987,      385000],\n",
              "       [       1987,      730000],\n",
              "       [       1987,      273000],\n",
              "       [       1987,      553000],\n",
              "       [       1988,      180000],\n",
              "       [       1988,      250000],\n",
              "       [       1989,      600000],\n",
              "       [       1989,     1000000],\n",
              "       [       1989,     1180235],\n",
              "       [       1989,      310000],\n",
              "       [       1990,     1200000],\n",
              "       [       1991,     1350000],\n",
              "       [       1991,       35000],\n",
              "       [       1992,      600000],\n",
              "       [       1992,      900000],\n",
              "       [       1993,     2800000],\n",
              "       [       1993,     3100000],\n",
              "       [       1994,      578977],\n",
              "       [       1994,     2500000],\n",
              "       [       1995,     2500000],\n",
              "       [       1999,      111000],\n",
              "       [       1995,     5500000],\n",
              "       [       1996,     4300000],\n",
              "       [       1997,    10000000],\n",
              "       [       1997,     7500000],\n",
              "       [       1997,     8800000],\n",
              "       [       1998,     7500000],\n",
              "       [       1999,     9500000],\n",
              "       [       1999,    13500000],\n",
              "       [       2000,    21000000],\n",
              "       [       2000,    21000000],\n",
              "       [       1999,    27400000],\n",
              "       [       1999,    21300000],\n",
              "       [       1999,    22000000],\n",
              "       [       2000,    42000000],\n",
              "       [       2001,   191000000],\n",
              "       [       2001,    45000000],\n",
              "       [       2002,    55000000],\n",
              "       [       2004,   112000000],\n",
              "       [       2004,   400000000],\n",
              "       [       2005,   169000000],\n",
              "       [       2006,   184000000],\n",
              "       [       2005,   228000000],\n",
              "       [       2006,   362000000],\n",
              "       [       2007,   540000000],\n",
              "       [       2008,    47000000],\n",
              "       [       2003,    54300000],\n",
              "       [       2003,   105900000],\n",
              "       [       2002,   220000000],\n",
              "       [       2005,   165000000],\n",
              "       [       2005,   250000000],\n",
              "       [       2006,   291000000],\n",
              "       [       2007,   169000000],\n",
              "       [       2003,   410000000],\n",
              "       [       2008,   600000000],\n",
              "       [       2009,   760000000],\n",
              "       [       2011,  1870000000],\n",
              "       [       2012,   432000000],\n",
              "       [       2007,   463000000],\n",
              "       [       2007,    26000000],\n",
              "       [       2008,   230000000],\n",
              "       [       2004,   592000000],\n",
              "       [       2007,   411000000],\n",
              "       [       2008,   731000000],\n",
              "       [       2008,   758000000],\n",
              "       [       2007,   789000000],\n",
              "       [       2009,   904000000],\n",
              "       [       2010,  1000000000],\n",
              "       [       2012,  2990000000],\n",
              "       [       2013,  1000000000],\n",
              "       [       2011,  1160000000],\n",
              "       [       2010,  1170000000],\n",
              "       [       2010,  1200000000],\n",
              "       [       2012,  1200000000],\n",
              "       [       2012,  1303000000],\n",
              "       [       2010,  1400000000],\n",
              "       [       2012,  1400000000],\n",
              "       [       2014,  1400000000],\n",
              "       [       2006,  1700000000],\n",
              "       [       2015,  1750000000],\n",
              "       [       2013,  1860000000],\n",
              "       [       2015,  1900000000],\n",
              "       [       2008,  1900000000],\n",
              "       [       2010,  2000000000],\n",
              "       [       2014,  2000000000],\n",
              "       [       2015,  2000000000],\n",
              "       [       2015,  3000000000],\n",
              "       [       2012,  2100000000],\n",
              "       [       2011,  2270000000],\n",
              "       [       2010,  2300000000],\n",
              "       [       2014,  2600000000],\n",
              "       [       2011,  2600000000],\n",
              "       [       2012,  2750000000],\n",
              "       [       2014,  3000000000],\n",
              "       [       2016,  3000000000],\n",
              "       [       2017,  5300000000],\n",
              "       [       2017,  5300000000],\n",
              "       [       2018,  8500000000],\n",
              "       [       2012,  3100000000],\n",
              "       [       2016,  3200000000],\n",
              "       [       2016,  3300000000],\n",
              "       [       2015,  3990000000],\n",
              "       [       2013,  4200000000],\n",
              "       [       2017,  4300000000],\n",
              "       [       2014,  4310000000],\n",
              "       [       2017,  4800000000],\n",
              "       [       2017,  4800000000],\n",
              "       [       2017,  4800000000],\n",
              "       [       2012,  5000000000],\n",
              "       [       2013,  5000000000],\n",
              "       [       2014,  5560000000],\n",
              "       [       2017,  6100000000],\n",
              "       [       2018,  6900000000],\n",
              "       [       2016,  4000000000],\n",
              "       [       2018,  6900000000],\n",
              "       [       2017,  5500000000],\n",
              "       [       2018,  5500000000],\n",
              "       [       2017,  7000000000],\n",
              "       [       2015,  7100000000],\n",
              "       [       2017,  8000000000],\n",
              "       [       2016,  7200000000],\n",
              "       [       2017,  8000000000],\n",
              "       [       2016,  8000000000],\n",
              "       [       2017,  9700000000],\n",
              "       [       2017,   250000000],\n",
              "       [       2015, 10000000000],\n",
              "       [       2017,  5450000000],\n",
              "       [       2018, 10000000000],\n",
              "       [       2017,  4300000000],\n",
              "       [       2017, 18000000000],\n",
              "       [       2017, 19200000000],\n",
              "       [       2018,  8876000000],\n",
              "       [       2018, 23600000000],\n",
              "       [       2018,  9000000000]])"
            ]
          },
          "metadata": {},
          "execution_count": 4
        }
      ]
    },
    {
      "cell_type": "code",
      "source": [
        "# making and N x D matrix\n",
        "X = data[:, 0].reshape(-1, 1)\n",
        "X"
      ],
      "metadata": {
        "id": "ACQ9k01rHwcf",
        "colab": {
          "base_uri": "https://localhost:8080/"
        },
        "outputId": "03852af7-1b52-4477-f685-88505ecb7e9f"
      },
      "execution_count": 5,
      "outputs": [
        {
          "output_type": "execute_result",
          "data": {
            "text/plain": [
              "array([[1971],\n",
              "       [1972],\n",
              "       [1973],\n",
              "       [1973],\n",
              "       [1974],\n",
              "       [1974],\n",
              "       [1974],\n",
              "       [1975],\n",
              "       [1976],\n",
              "       [1976],\n",
              "       [1976],\n",
              "       [1978],\n",
              "       [1978],\n",
              "       [1979],\n",
              "       [1979],\n",
              "       [1979],\n",
              "       [1981],\n",
              "       [1982],\n",
              "       [1982],\n",
              "       [1983],\n",
              "       [1984],\n",
              "       [1984],\n",
              "       [1985],\n",
              "       [1985],\n",
              "       [1985],\n",
              "       [1986],\n",
              "       [1986],\n",
              "       [1986],\n",
              "       [1987],\n",
              "       [1987],\n",
              "       [1987],\n",
              "       [1987],\n",
              "       [1988],\n",
              "       [1988],\n",
              "       [1989],\n",
              "       [1989],\n",
              "       [1989],\n",
              "       [1989],\n",
              "       [1990],\n",
              "       [1991],\n",
              "       [1991],\n",
              "       [1992],\n",
              "       [1992],\n",
              "       [1993],\n",
              "       [1993],\n",
              "       [1994],\n",
              "       [1994],\n",
              "       [1995],\n",
              "       [1999],\n",
              "       [1995],\n",
              "       [1996],\n",
              "       [1997],\n",
              "       [1997],\n",
              "       [1997],\n",
              "       [1998],\n",
              "       [1999],\n",
              "       [1999],\n",
              "       [2000],\n",
              "       [2000],\n",
              "       [1999],\n",
              "       [1999],\n",
              "       [1999],\n",
              "       [2000],\n",
              "       [2001],\n",
              "       [2001],\n",
              "       [2002],\n",
              "       [2004],\n",
              "       [2004],\n",
              "       [2005],\n",
              "       [2006],\n",
              "       [2005],\n",
              "       [2006],\n",
              "       [2007],\n",
              "       [2008],\n",
              "       [2003],\n",
              "       [2003],\n",
              "       [2002],\n",
              "       [2005],\n",
              "       [2005],\n",
              "       [2006],\n",
              "       [2007],\n",
              "       [2003],\n",
              "       [2008],\n",
              "       [2009],\n",
              "       [2011],\n",
              "       [2012],\n",
              "       [2007],\n",
              "       [2007],\n",
              "       [2008],\n",
              "       [2004],\n",
              "       [2007],\n",
              "       [2008],\n",
              "       [2008],\n",
              "       [2007],\n",
              "       [2009],\n",
              "       [2010],\n",
              "       [2012],\n",
              "       [2013],\n",
              "       [2011],\n",
              "       [2010],\n",
              "       [2010],\n",
              "       [2012],\n",
              "       [2012],\n",
              "       [2010],\n",
              "       [2012],\n",
              "       [2014],\n",
              "       [2006],\n",
              "       [2015],\n",
              "       [2013],\n",
              "       [2015],\n",
              "       [2008],\n",
              "       [2010],\n",
              "       [2014],\n",
              "       [2015],\n",
              "       [2015],\n",
              "       [2012],\n",
              "       [2011],\n",
              "       [2010],\n",
              "       [2014],\n",
              "       [2011],\n",
              "       [2012],\n",
              "       [2014],\n",
              "       [2016],\n",
              "       [2017],\n",
              "       [2017],\n",
              "       [2018],\n",
              "       [2012],\n",
              "       [2016],\n",
              "       [2016],\n",
              "       [2015],\n",
              "       [2013],\n",
              "       [2017],\n",
              "       [2014],\n",
              "       [2017],\n",
              "       [2017],\n",
              "       [2017],\n",
              "       [2012],\n",
              "       [2013],\n",
              "       [2014],\n",
              "       [2017],\n",
              "       [2018],\n",
              "       [2016],\n",
              "       [2018],\n",
              "       [2017],\n",
              "       [2018],\n",
              "       [2017],\n",
              "       [2015],\n",
              "       [2017],\n",
              "       [2016],\n",
              "       [2017],\n",
              "       [2016],\n",
              "       [2017],\n",
              "       [2017],\n",
              "       [2015],\n",
              "       [2017],\n",
              "       [2018],\n",
              "       [2017],\n",
              "       [2017],\n",
              "       [2017],\n",
              "       [2018],\n",
              "       [2018],\n",
              "       [2018]])"
            ]
          },
          "metadata": {},
          "execution_count": 5
        }
      ]
    },
    {
      "cell_type": "code",
      "source": [
        "Y = data[:, 1]\n",
        "Y"
      ],
      "metadata": {
        "colab": {
          "base_uri": "https://localhost:8080/"
        },
        "id": "4rA-k_hPEHyc",
        "outputId": "feec733f-dd70-406a-8bc9-65eb181472c3"
      },
      "execution_count": 6,
      "outputs": [
        {
          "output_type": "execute_result",
          "data": {
            "text/plain": [
              "array([       2300,        3500,        2500,        2500,        4100,\n",
              "              4500,        8000,        3510,        5000,        8500,\n",
              "              6500,        9000,       29000,       17500,       29000,\n",
              "             68000,       11500,       55000,      134000,       22000,\n",
              "             63000,      190000,      275000,       25000,       16000,\n",
              "            110000,      375000,       30000,      385000,      730000,\n",
              "            273000,      553000,      180000,      250000,      600000,\n",
              "           1000000,     1180235,      310000,     1200000,     1350000,\n",
              "             35000,      600000,      900000,     2800000,     3100000,\n",
              "            578977,     2500000,     2500000,      111000,     5500000,\n",
              "           4300000,    10000000,     7500000,     8800000,     7500000,\n",
              "           9500000,    13500000,    21000000,    21000000,    27400000,\n",
              "          21300000,    22000000,    42000000,   191000000,    45000000,\n",
              "          55000000,   112000000,   400000000,   169000000,   184000000,\n",
              "         228000000,   362000000,   540000000,    47000000,    54300000,\n",
              "         105900000,   220000000,   165000000,   250000000,   291000000,\n",
              "         169000000,   410000000,   600000000,   760000000,  1870000000,\n",
              "         432000000,   463000000,    26000000,   230000000,   592000000,\n",
              "         411000000,   731000000,   758000000,   789000000,   904000000,\n",
              "        1000000000,  2990000000,  1000000000,  1160000000,  1170000000,\n",
              "        1200000000,  1200000000,  1303000000,  1400000000,  1400000000,\n",
              "        1400000000,  1700000000,  1750000000,  1860000000,  1900000000,\n",
              "        1900000000,  2000000000,  2000000000,  2000000000,  3000000000,\n",
              "        2100000000,  2270000000,  2300000000,  2600000000,  2600000000,\n",
              "        2750000000,  3000000000,  3000000000,  5300000000,  5300000000,\n",
              "        8500000000,  3100000000,  3200000000,  3300000000,  3990000000,\n",
              "        4200000000,  4300000000,  4310000000,  4800000000,  4800000000,\n",
              "        4800000000,  5000000000,  5000000000,  5560000000,  6100000000,\n",
              "        6900000000,  4000000000,  6900000000,  5500000000,  5500000000,\n",
              "        7000000000,  7100000000,  8000000000,  7200000000,  8000000000,\n",
              "        8000000000,  9700000000,   250000000, 10000000000,  5450000000,\n",
              "       10000000000,  4300000000, 18000000000, 19200000000,  8876000000,\n",
              "       23600000000,  9000000000])"
            ]
          },
          "metadata": {},
          "execution_count": 6
        }
      ]
    },
    {
      "cell_type": "code",
      "source": [
        "plt.scatter(X, Y)"
      ],
      "metadata": {
        "colab": {
          "base_uri": "https://localhost:8080/",
          "height": 293
        },
        "id": "y3QO8hWPEMPM",
        "outputId": "bf9dccce-caee-4502-dafe-e092cf87d00b"
      },
      "execution_count": 7,
      "outputs": [
        {
          "output_type": "execute_result",
          "data": {
            "text/plain": [
              "<matplotlib.collections.PathCollection at 0x7f21cf00e340>"
            ]
          },
          "metadata": {},
          "execution_count": 7
        },
        {
          "output_type": "display_data",
          "data": {
            "text/plain": [
              "<Figure size 432x288 with 1 Axes>"
            ],
            "image/png": "[encoded data removed]"
          },
          "metadata": {
            "needs_background": "light"
          }
        }
      ]
    },
    {
      "cell_type": "code",
      "source": [
        "# log to cancel the exponencial\n",
        "Y = np.log(Y)\n",
        "# plot linear regression\n",
        "plt.scatter(X, Y);"
      ],
      "metadata": {
        "colab": {
          "base_uri": "https://localhost:8080/",
          "height": 265
        },
        "id": "No4xQ1aRGEK9",
        "outputId": "ef04e707-3935-455c-94fa-6f2b0ad210cc"
      },
      "execution_count": 8,
      "outputs": [
        {
          "output_type": "display_data",
          "data": {
            "text/plain": [
              "<Figure size 432x288 with 1 Axes>"
            ],
            "image/png": "[encoded data removed]"
          },
          "metadata": {
            "needs_background": "light"
          }
        }
      ]
    },
    {
      "cell_type": "markdown",
      "source": [
        "- o eixo X de 1970 à 2020 bagunçará o modelo de machine learning"
      ],
      "metadata": {
        "id": "iBKhS49SLoQS"
      }
    },
    {
      "cell_type": "code",
      "source": [
        "X = X - X.mean()"
      ],
      "metadata": {
        "id": "2l4hMEVDJ24J"
      },
      "execution_count": 9,
      "outputs": []
    },
    {
      "cell_type": "code",
      "source": [
        "model = tf.keras.models.Sequential([\n",
        "    tf.keras.layers.Input(shape=(1,)),\n",
        "    tf.keras.layers.Dense(1),\n",
        "])"
      ],
      "metadata": {
        "id": "NgppNWTML-Bq"
      },
      "execution_count": 10,
      "outputs": []
    },
    {
      "cell_type": "code",
      "source": [
        "model.compile(\n",
        "    optimizer=tf.keras.optimizers.SGD(0.001, 0.9),\n",
        "    loss='mse'\n",
        ")"
      ],
      "metadata": {
        "id": "2ZTbiUw7Ms2Y"
      },
      "execution_count": 11,
      "outputs": []
    },
    {
      "cell_type": "code",
      "source": [
        "def schedule(epoch, lr):\n",
        "  if epoch >= 50:\n",
        "    return 0.0001\n",
        "  return 0.001\n",
        "\n",
        "scheduler = tf.keras.callbacks.LearningRateScheduler(schedule)"
      ],
      "metadata": {
        "id": "U5AokvdDNA2M"
      },
      "execution_count": 12,
      "outputs": []
    },
    {
      "cell_type": "code",
      "source": [
        "r = model.fit(X, Y, epochs=200, callbacks=[scheduler])"
      ],
      "metadata": {
        "colab": {
          "base_uri": "https://localhost:8080/"
        },
        "id": "NZFGeGYZNYKy",
        "outputId": "62dbe1f2-6b73-4f7b-d5ec-23eac8fb2952"
      },
      "execution_count": 13,
      "outputs": [
        {
          "output_type": "stream",
          "name": "stdout",
          "text": [
            "Epoch 1/200\n",
            "6/6 [==============================] - 2s 7ms/step - loss: 379.9311 - lr: 0.0010\n",
            "Epoch 2/200\n",
            "6/6 [==============================] - 0s 10ms/step - loss: 377.9987 - lr: 0.0010\n",
            "Epoch 3/200\n",
            "6/6 [==============================] - 0s 15ms/step - loss: 260.0491 - lr: 0.0010\n",
            "Epoch 4/200\n",
            "6/6 [==============================] - 0s 5ms/step - loss: 206.5581 - lr: 0.0010\n",
            "Epoch 5/200\n",
            "6/6 [==============================] - 0s 6ms/step - loss: 147.1395 - lr: 0.0010\n",
            "Epoch 6/200\n",
            "6/6 [==============================] - 0s 4ms/step - loss: 148.6153 - lr: 0.0010\n",
            "Epoch 7/200\n",
            "6/6 [==============================] - 0s 5ms/step - loss: 100.1008 - lr: 0.0010\n",
            "Epoch 8/200\n",
            "6/6 [==============================] - 0s 8ms/step - loss: 73.5497 - lr: 0.0010\n",
            "Epoch 9/200\n",
            "6/6 [==============================] - 0s 6ms/step - loss: 81.3646 - lr: 0.0010\n",
            "Epoch 10/200\n",
            "6/6 [==============================] - 0s 5ms/step - loss: 58.9245 - lr: 0.0010\n",
            "Epoch 11/200\n",
            "6/6 [==============================] - 0s 6ms/step - loss: 67.2563 - lr: 0.0010\n",
            "Epoch 12/200\n",
            "6/6 [==============================] - 0s 10ms/step - loss: 35.3759 - lr: 0.0010\n",
            "Epoch 13/200\n",
            "6/6 [==============================] - 0s 10ms/step - loss: 22.1940 - lr: 0.0010\n",
            "Epoch 14/200\n",
            "6/6 [==============================] - 0s 19ms/step - loss: 12.6960 - lr: 0.0010\n",
            "Epoch 15/200\n",
            "6/6 [==============================] - 0s 8ms/step - loss: 41.0153 - lr: 0.0010\n",
            "Epoch 16/200\n",
            "6/6 [==============================] - 0s 16ms/step - loss: 22.7988 - lr: 0.0010\n",
            "Epoch 17/200\n",
            "6/6 [==============================] - 0s 8ms/step - loss: 11.8074 - lr: 0.0010\n",
            "Epoch 18/200\n",
            "6/6 [==============================] - 0s 15ms/step - loss: 11.9721 - lr: 0.0010\n",
            "Epoch 19/200\n",
            "6/6 [==============================] - 0s 7ms/step - loss: 14.1099 - lr: 0.0010\n",
            "Epoch 20/200\n",
            "6/6 [==============================] - 0s 7ms/step - loss: 13.9456 - lr: 0.0010\n",
            "Epoch 21/200\n",
            "6/6 [==============================] - 0s 15ms/step - loss: 7.1108 - lr: 0.0010\n",
            "Epoch 22/200\n",
            "6/6 [==============================] - 0s 6ms/step - loss: 4.0935 - lr: 0.0010\n",
            "Epoch 23/200\n",
            "6/6 [==============================] - 0s 15ms/step - loss: 4.3113 - lr: 0.0010\n",
            "Epoch 24/200\n",
            "6/6 [==============================] - 0s 11ms/step - loss: 2.2414 - lr: 0.0010\n",
            "Epoch 25/200\n",
            "6/6 [==============================] - 0s 18ms/step - loss: 1.3228 - lr: 0.0010\n",
            "Epoch 26/200\n",
            "6/6 [==============================] - 0s 13ms/step - loss: 1.0971 - lr: 0.0010\n",
            "Epoch 27/200\n",
            "6/6 [==============================] - 0s 8ms/step - loss: 1.0974 - lr: 0.0010\n",
            "Epoch 28/200\n",
            "6/6 [==============================] - 0s 10ms/step - loss: 1.0401 - lr: 0.0010\n",
            "Epoch 29/200\n",
            "6/6 [==============================] - 0s 37ms/step - loss: 0.9897 - lr: 0.0010\n",
            "Epoch 30/200\n",
            "6/6 [==============================] - 0s 16ms/step - loss: 0.9999 - lr: 0.0010\n",
            "Epoch 31/200\n",
            "6/6 [==============================] - 0s 14ms/step - loss: 0.9147 - lr: 0.0010\n",
            "Epoch 32/200\n",
            "6/6 [==============================] - 0s 8ms/step - loss: 0.9931 - lr: 0.0010\n",
            "Epoch 33/200\n",
            "6/6 [==============================] - 0s 15ms/step - loss: 0.9561 - lr: 0.0010\n",
            "Epoch 34/200\n",
            "6/6 [==============================] - 0s 10ms/step - loss: 0.8965 - lr: 0.0010\n",
            "Epoch 35/200\n",
            "6/6 [==============================] - 0s 10ms/step - loss: 0.9326 - lr: 0.0010\n",
            "Epoch 36/200\n",
            "6/6 [==============================] - 0s 16ms/step - loss: 0.9092 - lr: 0.0010\n",
            "Epoch 37/200\n",
            "6/6 [==============================] - 0s 10ms/step - loss: 0.9092 - lr: 0.0010\n",
            "Epoch 38/200\n",
            "6/6 [==============================] - 0s 46ms/step - loss: 1.2062 - lr: 0.0010\n",
            "Epoch 39/200\n",
            "6/6 [==============================] - 0s 17ms/step - loss: 1.2218 - lr: 0.0010\n",
            "Epoch 40/200\n",
            "6/6 [==============================] - 0s 6ms/step - loss: 1.2502 - lr: 0.0010\n",
            "Epoch 41/200\n",
            "6/6 [==============================] - 0s 8ms/step - loss: 1.1476 - lr: 0.0010\n",
            "Epoch 42/200\n",
            "6/6 [==============================] - 0s 9ms/step - loss: 0.9559 - lr: 0.0010\n",
            "Epoch 43/200\n",
            "6/6 [==============================] - 0s 17ms/step - loss: 1.1647 - lr: 0.0010\n",
            "Epoch 44/200\n",
            "6/6 [==============================] - 0s 27ms/step - loss: 0.9773 - lr: 0.0010\n",
            "Epoch 45/200\n",
            "6/6 [==============================] - 0s 10ms/step - loss: 1.1340 - lr: 0.0010\n",
            "Epoch 46/200\n",
            "6/6 [==============================] - 0s 16ms/step - loss: 0.9954 - lr: 0.0010\n",
            "Epoch 47/200\n",
            "6/6 [==============================] - 0s 6ms/step - loss: 0.9231 - lr: 0.0010\n",
            "Epoch 48/200\n",
            "6/6 [==============================] - 0s 5ms/step - loss: 0.8964 - lr: 0.0010\n",
            "Epoch 49/200\n",
            "6/6 [==============================] - 0s 5ms/step - loss: 0.9173 - lr: 0.0010\n",
            "Epoch 50/200\n",
            "6/6 [==============================] - 0s 7ms/step - loss: 0.9291 - lr: 0.0010\n",
            "Epoch 51/200\n",
            "6/6 [==============================] - 0s 9ms/step - loss: 0.9197 - lr: 1.0000e-04\n",
            "Epoch 52/200\n",
            "6/6 [==============================] - 0s 4ms/step - loss: 0.9757 - lr: 1.0000e-04\n",
            "Epoch 53/200\n",
            "6/6 [==============================] - 0s 19ms/step - loss: 0.8884 - lr: 1.0000e-04\n",
            "Epoch 54/200\n",
            "6/6 [==============================] - 0s 13ms/step - loss: 0.8927 - lr: 1.0000e-04\n",
            "Epoch 55/200\n",
            "6/6 [==============================] - 0s 9ms/step - loss: 0.8948 - lr: 1.0000e-04\n",
            "Epoch 56/200\n",
            "6/6 [==============================] - 0s 10ms/step - loss: 0.8796 - lr: 1.0000e-04\n",
            "Epoch 57/200\n",
            "6/6 [==============================] - 0s 22ms/step - loss: 0.8780 - lr: 1.0000e-04\n",
            "Epoch 58/200\n",
            "6/6 [==============================] - 0s 5ms/step - loss: 0.8790 - lr: 1.0000e-04\n",
            "Epoch 59/200\n",
            "6/6 [==============================] - 0s 8ms/step - loss: 0.8783 - lr: 1.0000e-04\n",
            "Epoch 60/200\n",
            "6/6 [==============================] - 0s 8ms/step - loss: 0.8796 - lr: 1.0000e-04\n",
            "Epoch 61/200\n",
            "6/6 [==============================] - 0s 21ms/step - loss: 0.8888 - lr: 1.0000e-04\n",
            "Epoch 62/200\n",
            "6/6 [==============================] - 0s 33ms/step - loss: 0.8865 - lr: 1.0000e-04\n",
            "Epoch 63/200\n",
            "6/6 [==============================] - 0s 9ms/step - loss: 0.8782 - lr: 1.0000e-04\n",
            "Epoch 64/200\n",
            "6/6 [==============================] - 0s 37ms/step - loss: 0.8775 - lr: 1.0000e-04\n",
            "Epoch 65/200\n",
            "6/6 [==============================] - 0s 43ms/step - loss: 0.8780 - lr: 1.0000e-04\n",
            "Epoch 66/200\n",
            "6/6 [==============================] - 0s 17ms/step - loss: 0.8779 - lr: 1.0000e-04\n",
            "Epoch 67/200\n",
            "6/6 [==============================] - 0s 7ms/step - loss: 0.8757 - lr: 1.0000e-04\n",
            "Epoch 68/200\n",
            "6/6 [==============================] - 0s 9ms/step - loss: 0.8758 - lr: 1.0000e-04\n",
            "Epoch 69/200\n",
            "6/6 [==============================] - 0s 6ms/step - loss: 0.8810 - lr: 1.0000e-04\n",
            "Epoch 70/200\n",
            "6/6 [==============================] - 0s 6ms/step - loss: 0.8803 - lr: 1.0000e-04\n",
            "Epoch 71/200\n",
            "6/6 [==============================] - 0s 5ms/step - loss: 0.8774 - lr: 1.0000e-04\n",
            "Epoch 72/200\n",
            "6/6 [==============================] - 0s 35ms/step - loss: 0.8737 - lr: 1.0000e-04\n",
            "Epoch 73/200\n",
            "6/6 [==============================] - 0s 15ms/step - loss: 0.8770 - lr: 1.0000e-04\n",
            "Epoch 74/200\n",
            "6/6 [==============================] - 0s 6ms/step - loss: 0.8834 - lr: 1.0000e-04\n",
            "Epoch 75/200\n",
            "6/6 [==============================] - 0s 6ms/step - loss: 0.8753 - lr: 1.0000e-04\n",
            "Epoch 76/200\n",
            "6/6 [==============================] - 0s 5ms/step - loss: 0.8760 - lr: 1.0000e-04\n",
            "Epoch 77/200\n",
            "6/6 [==============================] - 0s 4ms/step - loss: 0.8748 - lr: 1.0000e-04\n",
            "Epoch 78/200\n",
            "6/6 [==============================] - 0s 5ms/step - loss: 0.8748 - lr: 1.0000e-04\n",
            "Epoch 79/200\n",
            "6/6 [==============================] - 0s 4ms/step - loss: 0.8761 - lr: 1.0000e-04\n",
            "Epoch 80/200\n",
            "6/6 [==============================] - 0s 4ms/step - loss: 0.8756 - lr: 1.0000e-04\n",
            "Epoch 81/200\n",
            "6/6 [==============================] - 0s 13ms/step - loss: 0.8755 - lr: 1.0000e-04\n",
            "Epoch 82/200\n",
            "6/6 [==============================] - 0s 12ms/step - loss: 0.8725 - lr: 1.0000e-04\n",
            "Epoch 83/200\n",
            "6/6 [==============================] - 0s 13ms/step - loss: 0.8741 - lr: 1.0000e-04\n",
            "Epoch 84/200\n",
            "6/6 [==============================] - 0s 10ms/step - loss: 0.8742 - lr: 1.0000e-04\n",
            "Epoch 85/200\n",
            "6/6 [==============================] - 0s 24ms/step - loss: 0.8745 - lr: 1.0000e-04\n",
            "Epoch 86/200\n",
            "6/6 [==============================] - 0s 8ms/step - loss: 0.9075 - lr: 1.0000e-04\n",
            "Epoch 87/200\n",
            "6/6 [==============================] - 0s 11ms/step - loss: 0.9279 - lr: 1.0000e-04\n",
            "Epoch 88/200\n",
            "6/6 [==============================] - 0s 26ms/step - loss: 0.8776 - lr: 1.0000e-04\n",
            "Epoch 89/200\n",
            "6/6 [==============================] - 0s 18ms/step - loss: 0.8771 - lr: 1.0000e-04\n",
            "Epoch 90/200\n",
            "6/6 [==============================] - 0s 6ms/step - loss: 0.8792 - lr: 1.0000e-04\n",
            "Epoch 91/200\n",
            "6/6 [==============================] - 0s 5ms/step - loss: 0.8782 - lr: 1.0000e-04\n",
            "Epoch 92/200\n",
            "6/6 [==============================] - 0s 4ms/step - loss: 0.8742 - lr: 1.0000e-04\n",
            "Epoch 93/200\n",
            "6/6 [==============================] - 0s 7ms/step - loss: 0.8883 - lr: 1.0000e-04\n",
            "Epoch 94/200\n",
            "6/6 [==============================] - 0s 7ms/step - loss: 0.8820 - lr: 1.0000e-04\n",
            "Epoch 95/200\n",
            "6/6 [==============================] - 0s 9ms/step - loss: 0.9045 - lr: 1.0000e-04\n",
            "Epoch 96/200\n",
            "6/6 [==============================] - 0s 20ms/step - loss: 0.8864 - lr: 1.0000e-04\n",
            "Epoch 97/200\n",
            "6/6 [==============================] - 0s 23ms/step - loss: 0.8751 - lr: 1.0000e-04\n",
            "Epoch 98/200\n",
            "6/6 [==============================] - 0s 23ms/step - loss: 0.8873 - lr: 1.0000e-04\n",
            "Epoch 99/200\n",
            "6/6 [==============================] - 0s 15ms/step - loss: 0.8731 - lr: 1.0000e-04\n",
            "Epoch 100/200\n",
            "6/6 [==============================] - 0s 21ms/step - loss: 0.8941 - lr: 1.0000e-04\n",
            "Epoch 101/200\n",
            "6/6 [==============================] - 0s 19ms/step - loss: 0.8953 - lr: 1.0000e-04\n",
            "Epoch 102/200\n",
            "6/6 [==============================] - 0s 9ms/step - loss: 0.8806 - lr: 1.0000e-04\n",
            "Epoch 103/200\n",
            "6/6 [==============================] - 0s 8ms/step - loss: 0.8753 - lr: 1.0000e-04\n",
            "Epoch 104/200\n",
            "6/6 [==============================] - 0s 9ms/step - loss: 0.9330 - lr: 1.0000e-04\n",
            "Epoch 105/200\n",
            "6/6 [==============================] - 0s 10ms/step - loss: 0.8702 - lr: 1.0000e-04\n",
            "Epoch 106/200\n",
            "6/6 [==============================] - 0s 9ms/step - loss: 0.9188 - lr: 1.0000e-04\n",
            "Epoch 107/200\n",
            "6/6 [==============================] - 0s 6ms/step - loss: 0.8922 - lr: 1.0000e-04\n",
            "Epoch 108/200\n",
            "6/6 [==============================] - 0s 8ms/step - loss: 0.8704 - lr: 1.0000e-04\n",
            "Epoch 109/200\n",
            "6/6 [==============================] - 0s 4ms/step - loss: 0.8843 - lr: 1.0000e-04\n",
            "Epoch 110/200\n",
            "6/6 [==============================] - 0s 10ms/step - loss: 0.8712 - lr: 1.0000e-04\n",
            "Epoch 111/200\n",
            "6/6 [==============================] - 0s 7ms/step - loss: 0.8911 - lr: 1.0000e-04\n",
            "Epoch 112/200\n",
            "6/6 [==============================] - 0s 6ms/step - loss: 0.8750 - lr: 1.0000e-04\n",
            "Epoch 113/200\n",
            "6/6 [==============================] - 0s 6ms/step - loss: 0.8743 - lr: 1.0000e-04\n",
            "Epoch 114/200\n",
            "6/6 [==============================] - 0s 7ms/step - loss: 0.8781 - lr: 1.0000e-04\n",
            "Epoch 115/200\n",
            "6/6 [==============================] - 0s 3ms/step - loss: 0.8716 - lr: 1.0000e-04\n",
            "Epoch 116/200\n",
            "6/6 [==============================] - 0s 10ms/step - loss: 0.8830 - lr: 1.0000e-04\n",
            "Epoch 117/200\n",
            "6/6 [==============================] - 0s 4ms/step - loss: 0.8772 - lr: 1.0000e-04\n",
            "Epoch 118/200\n",
            "6/6 [==============================] - 0s 4ms/step - loss: 0.8709 - lr: 1.0000e-04\n",
            "Epoch 119/200\n",
            "6/6 [==============================] - 0s 5ms/step - loss: 0.8715 - lr: 1.0000e-04\n",
            "Epoch 120/200\n",
            "6/6 [==============================] - 0s 5ms/step - loss: 0.8723 - lr: 1.0000e-04\n",
            "Epoch 121/200\n",
            "6/6 [==============================] - 0s 3ms/step - loss: 0.8758 - lr: 1.0000e-04\n",
            "Epoch 122/200\n",
            "6/6 [==============================] - 0s 3ms/step - loss: 0.8786 - lr: 1.0000e-04\n",
            "Epoch 123/200\n",
            "6/6 [==============================] - 0s 5ms/step - loss: 0.8761 - lr: 1.0000e-04\n",
            "Epoch 124/200\n",
            "6/6 [==============================] - 0s 13ms/step - loss: 0.8764 - lr: 1.0000e-04\n",
            "Epoch 125/200\n",
            "6/6 [==============================] - 0s 6ms/step - loss: 0.8862 - lr: 1.0000e-04\n",
            "Epoch 126/200\n",
            "6/6 [==============================] - 0s 5ms/step - loss: 0.8870 - lr: 1.0000e-04\n",
            "Epoch 127/200\n",
            "6/6 [==============================] - 0s 4ms/step - loss: 0.8708 - lr: 1.0000e-04\n",
            "Epoch 128/200\n",
            "6/6 [==============================] - 0s 6ms/step - loss: 0.8802 - lr: 1.0000e-04\n",
            "Epoch 129/200\n",
            "6/6 [==============================] - 0s 6ms/step - loss: 0.8794 - lr: 1.0000e-04\n",
            "Epoch 130/200\n",
            "6/6 [==============================] - 0s 8ms/step - loss: 0.8835 - lr: 1.0000e-04\n",
            "Epoch 131/200\n",
            "6/6 [==============================] - 0s 19ms/step - loss: 0.8839 - lr: 1.0000e-04\n",
            "Epoch 132/200\n",
            "6/6 [==============================] - 0s 15ms/step - loss: 0.8722 - lr: 1.0000e-04\n",
            "Epoch 133/200\n",
            "6/6 [==============================] - 0s 14ms/step - loss: 0.8864 - lr: 1.0000e-04\n",
            "Epoch 134/200\n",
            "6/6 [==============================] - 0s 10ms/step - loss: 0.8748 - lr: 1.0000e-04\n",
            "Epoch 135/200\n",
            "6/6 [==============================] - 0s 8ms/step - loss: 0.8785 - lr: 1.0000e-04\n",
            "Epoch 136/200\n",
            "6/6 [==============================] - 0s 15ms/step - loss: 0.8791 - lr: 1.0000e-04\n",
            "Epoch 137/200\n",
            "6/6 [==============================] - 0s 32ms/step - loss: 0.8715 - lr: 1.0000e-04\n",
            "Epoch 138/200\n",
            "6/6 [==============================] - 0s 17ms/step - loss: 0.8740 - lr: 1.0000e-04\n",
            "Epoch 139/200\n",
            "6/6 [==============================] - 0s 4ms/step - loss: 0.8738 - lr: 1.0000e-04\n",
            "Epoch 140/200\n",
            "6/6 [==============================] - 0s 8ms/step - loss: 0.8724 - lr: 1.0000e-04\n",
            "Epoch 141/200\n",
            "6/6 [==============================] - 0s 8ms/step - loss: 0.8724 - lr: 1.0000e-04\n",
            "Epoch 142/200\n",
            "6/6 [==============================] - 0s 7ms/step - loss: 0.8754 - lr: 1.0000e-04\n",
            "Epoch 143/200\n",
            "6/6 [==============================] - 0s 22ms/step - loss: 0.8757 - lr: 1.0000e-04\n",
            "Epoch 144/200\n",
            "6/6 [==============================] - 0s 18ms/step - loss: 0.8743 - lr: 1.0000e-04\n",
            "Epoch 145/200\n",
            "6/6 [==============================] - 0s 8ms/step - loss: 0.8862 - lr: 1.0000e-04\n",
            "Epoch 146/200\n",
            "6/6 [==============================] - 0s 9ms/step - loss: 0.8749 - lr: 1.0000e-04\n",
            "Epoch 147/200\n",
            "6/6 [==============================] - 0s 14ms/step - loss: 0.8749 - lr: 1.0000e-04\n",
            "Epoch 148/200\n",
            "6/6 [==============================] - 0s 15ms/step - loss: 0.8759 - lr: 1.0000e-04\n",
            "Epoch 149/200\n",
            "6/6 [==============================] - 0s 8ms/step - loss: 0.8718 - lr: 1.0000e-04\n",
            "Epoch 150/200\n",
            "6/6 [==============================] - 0s 8ms/step - loss: 0.8718 - lr: 1.0000e-04\n",
            "Epoch 151/200\n",
            "6/6 [==============================] - 0s 8ms/step - loss: 0.8886 - lr: 1.0000e-04\n",
            "Epoch 152/200\n",
            "6/6 [==============================] - 0s 10ms/step - loss: 0.8733 - lr: 1.0000e-04\n",
            "Epoch 153/200\n",
            "6/6 [==============================] - 0s 29ms/step - loss: 0.8782 - lr: 1.0000e-04\n",
            "Epoch 154/200\n",
            "6/6 [==============================] - 0s 19ms/step - loss: 0.8997 - lr: 1.0000e-04\n",
            "Epoch 155/200\n",
            "6/6 [==============================] - 0s 21ms/step - loss: 0.8850 - lr: 1.0000e-04\n",
            "Epoch 156/200\n",
            "6/6 [==============================] - 0s 39ms/step - loss: 0.8684 - lr: 1.0000e-04\n",
            "Epoch 157/200\n",
            "6/6 [==============================] - 0s 46ms/step - loss: 0.8824 - lr: 1.0000e-04\n",
            "Epoch 158/200\n",
            "6/6 [==============================] - 0s 48ms/step - loss: 0.8869 - lr: 1.0000e-04\n",
            "Epoch 159/200\n",
            "6/6 [==============================] - 0s 21ms/step - loss: 0.8704 - lr: 1.0000e-04\n",
            "Epoch 160/200\n",
            "6/6 [==============================] - 0s 9ms/step - loss: 0.8753 - lr: 1.0000e-04\n",
            "Epoch 161/200\n",
            "6/6 [==============================] - 0s 9ms/step - loss: 0.8788 - lr: 1.0000e-04\n",
            "Epoch 162/200\n",
            "6/6 [==============================] - 0s 18ms/step - loss: 0.8739 - lr: 1.0000e-04\n",
            "Epoch 163/200\n",
            "6/6 [==============================] - 0s 7ms/step - loss: 0.8959 - lr: 1.0000e-04\n",
            "Epoch 164/200\n",
            "6/6 [==============================] - 0s 13ms/step - loss: 0.8782 - lr: 1.0000e-04\n",
            "Epoch 165/200\n",
            "6/6 [==============================] - 0s 24ms/step - loss: 0.8808 - lr: 1.0000e-04\n",
            "Epoch 166/200\n",
            "6/6 [==============================] - 0s 25ms/step - loss: 0.8734 - lr: 1.0000e-04\n",
            "Epoch 167/200\n",
            "6/6 [==============================] - 0s 7ms/step - loss: 0.8717 - lr: 1.0000e-04\n",
            "Epoch 168/200\n",
            "6/6 [==============================] - 0s 6ms/step - loss: 0.8687 - lr: 1.0000e-04\n",
            "Epoch 169/200\n",
            "6/6 [==============================] - 0s 11ms/step - loss: 0.8743 - lr: 1.0000e-04\n",
            "Epoch 170/200\n",
            "6/6 [==============================] - 0s 8ms/step - loss: 0.8833 - lr: 1.0000e-04\n",
            "Epoch 171/200\n",
            "6/6 [==============================] - 0s 9ms/step - loss: 0.8725 - lr: 1.0000e-04\n",
            "Epoch 172/200\n",
            "6/6 [==============================] - 0s 23ms/step - loss: 0.8735 - lr: 1.0000e-04\n",
            "Epoch 173/200\n",
            "6/6 [==============================] - 0s 20ms/step - loss: 0.8963 - lr: 1.0000e-04\n",
            "Epoch 174/200\n",
            "6/6 [==============================] - 0s 14ms/step - loss: 0.8965 - lr: 1.0000e-04\n",
            "Epoch 175/200\n",
            "6/6 [==============================] - 0s 7ms/step - loss: 0.8765 - lr: 1.0000e-04\n",
            "Epoch 176/200\n",
            "6/6 [==============================] - 0s 13ms/step - loss: 0.8864 - lr: 1.0000e-04\n",
            "Epoch 177/200\n",
            "6/6 [==============================] - 0s 9ms/step - loss: 0.8718 - lr: 1.0000e-04\n",
            "Epoch 178/200\n",
            "6/6 [==============================] - 0s 9ms/step - loss: 0.8765 - lr: 1.0000e-04\n",
            "Epoch 179/200\n",
            "6/6 [==============================] - 0s 19ms/step - loss: 0.8776 - lr: 1.0000e-04\n",
            "Epoch 180/200\n",
            "6/6 [==============================] - 0s 7ms/step - loss: 0.8752 - lr: 1.0000e-04\n",
            "Epoch 181/200\n",
            "6/6 [==============================] - 0s 8ms/step - loss: 0.8912 - lr: 1.0000e-04\n",
            "Epoch 182/200\n",
            "6/6 [==============================] - 0s 17ms/step - loss: 0.9083 - lr: 1.0000e-04\n",
            "Epoch 183/200\n",
            "6/6 [==============================] - 0s 4ms/step - loss: 0.8919 - lr: 1.0000e-04\n",
            "Epoch 184/200\n",
            "6/6 [==============================] - 0s 3ms/step - loss: 0.8742 - lr: 1.0000e-04\n",
            "Epoch 185/200\n",
            "6/6 [==============================] - 0s 3ms/step - loss: 0.8812 - lr: 1.0000e-04\n",
            "Epoch 186/200\n",
            "6/6 [==============================] - 0s 3ms/step - loss: 0.8721 - lr: 1.0000e-04\n",
            "Epoch 187/200\n",
            "6/6 [==============================] - 0s 9ms/step - loss: 0.8710 - lr: 1.0000e-04\n",
            "Epoch 188/200\n",
            "6/6 [==============================] - 0s 9ms/step - loss: 0.8780 - lr: 1.0000e-04\n",
            "Epoch 189/200\n",
            "6/6 [==============================] - 0s 14ms/step - loss: 0.8854 - lr: 1.0000e-04\n",
            "Epoch 190/200\n",
            "6/6 [==============================] - 0s 44ms/step - loss: 0.8772 - lr: 1.0000e-04\n",
            "Epoch 191/200\n",
            "6/6 [==============================] - 0s 19ms/step - loss: 0.8777 - lr: 1.0000e-04\n",
            "Epoch 192/200\n",
            "6/6 [==============================] - 0s 8ms/step - loss: 0.8753 - lr: 1.0000e-04\n",
            "Epoch 193/200\n",
            "6/6 [==============================] - 0s 13ms/step - loss: 0.8896 - lr: 1.0000e-04\n",
            "Epoch 194/200\n",
            "6/6 [==============================] - 0s 11ms/step - loss: 0.9153 - lr: 1.0000e-04\n",
            "Epoch 195/200\n",
            "6/6 [==============================] - 0s 7ms/step - loss: 0.9016 - lr: 1.0000e-04\n",
            "Epoch 196/200\n",
            "6/6 [==============================] - 0s 8ms/step - loss: 0.8745 - lr: 1.0000e-04\n",
            "Epoch 197/200\n",
            "6/6 [==============================] - 0s 7ms/step - loss: 0.8747 - lr: 1.0000e-04\n",
            "Epoch 198/200\n",
            "6/6 [==============================] - 0s 16ms/step - loss: 0.8806 - lr: 1.0000e-04\n",
            "Epoch 199/200\n",
            "6/6 [==============================] - 0s 10ms/step - loss: 0.8695 - lr: 1.0000e-04\n",
            "Epoch 200/200\n",
            "6/6 [==============================] - 0s 9ms/step - loss: 0.8808 - lr: 1.0000e-04\n"
          ]
        }
      ]
    },
    {
      "cell_type": "code",
      "source": [
        "plt.plot(r.history['loss'], label='loss')\n",
        "plt.legend();"
      ],
      "metadata": {
        "colab": {
          "base_uri": "https://localhost:8080/",
          "height": 265
        },
        "id": "fMy2BNq-Ne8w",
        "outputId": "ef98e56e-0683-4b9d-a4df-638585a627b8"
      },
      "execution_count": 14,
      "outputs": [
        {
          "output_type": "display_data",
          "data": {
            "text/plain": [
              "<Figure size 432x288 with 1 Axes>"
            ],
            "image/png": "[encoded data removed]"
          },
          "metadata": {
            "needs_background": "light"
          }
        }
      ]
    },
    {
      "cell_type": "code",
      "source": [
        "model.layers"
      ],
      "metadata": {
        "colab": {
          "base_uri": "https://localhost:8080/"
        },
        "id": "q_7EmGqYNqnt",
        "outputId": "cb05b319-4312-49b8-c4c2-c262fc7d46a0"
      },
      "execution_count": 15,
      "outputs": [
        {
          "output_type": "execute_result",
          "data": {
            "text/plain": [
              "[<keras.layers.core.dense.Dense at 0x7f21ccec2c10>]"
            ]
          },
          "metadata": {},
          "execution_count": 15
        }
      ]
    },
    {
      "cell_type": "code",
      "source": [
        "model.layers[0].get_weights()"
      ],
      "metadata": {
        "colab": {
          "base_uri": "https://localhost:8080/"
        },
        "id": "D84_bG44N4X1",
        "outputId": "b15f5e4d-900b-4e07-bf49-a70913da23b7"
      },
      "execution_count": 16,
      "outputs": [
        {
          "output_type": "execute_result",
          "data": {
            "text/plain": [
              "[array([[0.34639052]], dtype=float32), array([17.74495], dtype=float32)]"
            ]
          },
          "metadata": {},
          "execution_count": 16
        }
      ]
    },
    {
      "cell_type": "code",
      "source": [
        "a = model.layers[0].get_weights()[0][0, 0]\n",
        "a"
      ],
      "metadata": {
        "colab": {
          "base_uri": "https://localhost:8080/"
        },
        "id": "6sYjrjWdObme",
        "outputId": "3f8e4ed5-eddb-4383-beba-73f481f7633e"
      },
      "execution_count": 17,
      "outputs": [
        {
          "output_type": "execute_result",
          "data": {
            "text/plain": [
              "0.34639052"
            ]
          },
          "metadata": {},
          "execution_count": 17
        }
      ]
    },
    {
      "cell_type": "code",
      "source": [
        "print(\"Time to double: \", np.log(2) / a)"
      ],
      "metadata": {
        "colab": {
          "base_uri": "https://localhost:8080/"
        },
        "id": "mNdNdyiUYVrv",
        "outputId": "a61cc368-4c55-4a91-83c9-0b2540678fc1"
      },
      "execution_count": 18,
      "outputs": [
        {
          "output_type": "stream",
          "name": "stdout",
          "text": [
            "Time to double:  2.0010570423026817\n"
          ]
        }
      ]
    },
    {
      "cell_type": "markdown",
      "source": [
        "# Making Predictions"
      ],
      "metadata": {
        "id": "6d2roJR6dgOE"
      }
    },
    {
      "cell_type": "code",
      "source": [
        "Yhat = model.predict(X).flatten()\n",
        "Yhat"
      ],
      "metadata": {
        "colab": {
          "base_uri": "https://localhost:8080/"
        },
        "id": "QOznNpHXdhmk",
        "outputId": "02be937e-040f-4677-922a-3b2b506c41b9"
      },
      "execution_count": 30,
      "outputs": [
        {
          "output_type": "stream",
          "name": "stdout",
          "text": [
            "6/6 [==============================] - 0s 3ms/step\n"
          ]
        },
        {
          "output_type": "execute_result",
          "data": {
            "text/plain": [
              "array([ 6.9384203,  7.284811 ,  7.6312017,  7.6312017,  7.9775925,\n",
              "        7.9775925,  7.9775925,  8.323982 ,  8.670373 ,  8.670373 ,\n",
              "        8.670373 ,  9.363154 ,  9.363154 ,  9.709545 ,  9.709545 ,\n",
              "        9.709545 , 10.402326 , 10.748716 , 10.748716 , 11.095106 ,\n",
              "       11.441498 , 11.441498 , 11.787888 , 11.787888 , 11.787888 ,\n",
              "       12.134278 , 12.134278 , 12.134278 , 12.480669 , 12.480669 ,\n",
              "       12.480669 , 12.480669 , 12.827059 , 12.827059 , 13.17345  ,\n",
              "       13.17345  , 13.17345  , 13.17345  , 13.51984  , 13.866231 ,\n",
              "       13.866231 , 14.212622 , 14.212622 , 14.559011 , 14.559011 ,\n",
              "       14.905402 , 14.905402 , 15.251793 , 16.637356 , 15.251793 ,\n",
              "       15.598184 , 15.944574 , 15.944574 , 15.944574 , 16.290964 ,\n",
              "       16.637356 , 16.637356 , 16.983746 , 16.983746 , 16.637356 ,\n",
              "       16.637356 , 16.637356 , 16.983746 , 17.330135 , 17.330135 ,\n",
              "       17.676527 , 18.369308 , 18.369308 , 18.715698 , 19.062088 ,\n",
              "       18.715698 , 19.062088 , 19.40848  , 19.75487  , 18.022917 ,\n",
              "       18.022917 , 17.676527 , 18.715698 , 18.715698 , 19.062088 ,\n",
              "       19.40848  , 18.022917 , 19.75487  , 20.101261 , 20.79404  ,\n",
              "       21.140432 , 19.40848  , 19.40848  , 19.75487  , 18.369308 ,\n",
              "       19.40848  , 19.75487  , 19.75487  , 19.40848  , 20.101261 ,\n",
              "       20.44765  , 21.140432 , 21.486822 , 20.79404  , 20.44765  ,\n",
              "       20.44765  , 21.140432 , 21.140432 , 20.44765  , 21.140432 ,\n",
              "       21.833214 , 19.062088 , 22.179604 , 21.486822 , 22.179604 ,\n",
              "       19.75487  , 20.44765  , 21.833214 , 22.179604 , 22.179604 ,\n",
              "       21.140432 , 20.79404  , 20.44765  , 21.833214 , 20.79404  ,\n",
              "       21.140432 , 21.833214 , 22.525993 , 22.872383 , 22.872383 ,\n",
              "       23.218775 , 21.140432 , 22.525993 , 22.525993 , 22.179604 ,\n",
              "       21.486822 , 22.872383 , 21.833214 , 22.872383 , 22.872383 ,\n",
              "       22.872383 , 21.140432 , 21.486822 , 21.833214 , 22.872383 ,\n",
              "       23.218775 , 22.525993 , 23.218775 , 22.872383 , 23.218775 ,\n",
              "       22.872383 , 22.179604 , 22.872383 , 22.525993 , 22.872383 ,\n",
              "       22.525993 , 22.872383 , 22.872383 , 22.179604 , 22.872383 ,\n",
              "       23.218775 , 22.872383 , 22.872383 , 22.872383 , 23.218775 ,\n",
              "       23.218775 , 23.218775 ], dtype=float32)"
            ]
          },
          "metadata": {},
          "execution_count": 30
        }
      ]
    },
    {
      "cell_type": "code",
      "source": [
        "plt.scatter(X, Y)\n",
        "plt.plot(X, Yhat)"
      ],
      "metadata": {
        "colab": {
          "base_uri": "https://localhost:8080/",
          "height": 282
        },
        "id": "bPD2TcpTnNyR",
        "outputId": "174e30d6-8c29-45ca-bd8d-053917916fce"
      },
      "execution_count": 28,
      "outputs": [
        {
          "output_type": "execute_result",
          "data": {
            "text/plain": [
              "[<matplotlib.lines.Line2D at 0x7f21b96ab4c0>]"
            ]
          },
          "metadata": {},
          "execution_count": 28
        },
        {
          "output_type": "display_data",
          "data": {
            "text/plain": [
              "<Figure size 432x288 with 1 Axes>"
            ],
            "image/png": "[encoded data removed]"
          },
          "metadata": {
            "needs_background": "light"
          }
        }
      ]
    },
    {
      "cell_type": "code",
      "source": [
        "# Manual calculation\n",
        "\n",
        "# Get the weights\n",
        "w, b = model.layers[0].get_weights()\n",
        "\n",
        "# Reshape X because we flattened\n",
        "X = X.reshape(-1, 1)\n",
        "\n",
        "# (N x 1) x (1 x 1) + 1 -> (N x 1)\n",
        "Yhat2 = (X.dot(w) + b).flatten()\n",
        "\n",
        "# Don't use == for floating points\n",
        "np.allclose(Yhat, Yhat2)"
      ],
      "metadata": {
        "colab": {
          "base_uri": "https://localhost:8080/"
        },
        "id": "ZJW5W2MYmBpg",
        "outputId": "5b4dfdc1-fd1a-4ab8-aac7-6151142c8c41"
      },
      "execution_count": 26,
      "outputs": [
        {
          "output_type": "execute_result",
          "data": {
            "text/plain": [
              "True"
            ]
          },
          "metadata": {},
          "execution_count": 26
        }
      ]
    }
  ]
}